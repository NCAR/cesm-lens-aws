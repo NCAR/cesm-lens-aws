{
 "cells": [
  {
   "cell_type": "markdown",
   "metadata": {},
   "source": [
    "# Using Intake-ESM Catalog\n",
    "\n",
    "This Jupyter notebook demonstrates how to work with intake-esm esm catalog for\n",
    "the NCAR Community Earth System Model (CESM) Large Ensemble (LENS) data hosted\n",
    "on AWS S3 ([doi:10.26024/wt24-5j82](https://doi.org/10.26024/wt24-5j82)).\n",
    "\n",
    "[Intake-esm Documentation](https://intake-esm.readthedocs.io/en/latest/notebooks/tutorial.html)\n"
   ]
  },
  {
   "cell_type": "markdown",
   "metadata": {},
   "source": [
    "## Import packages\n"
   ]
  },
  {
   "cell_type": "code",
   "execution_count": null,
   "metadata": {},
   "outputs": [],
   "source": [
    "import pprint\n",
    "\n",
    "import intake"
   ]
  },
  {
   "cell_type": "markdown",
   "metadata": {},
   "source": [
    "## Inspect intake-esm catalog\n"
   ]
  },
  {
   "cell_type": "code",
   "execution_count": null,
   "metadata": {},
   "outputs": [],
   "source": [
    "# Open original collection description file\n",
    "cat_url = \"https://ncar-cesm-lens.s3-us-west-2.amazonaws.com/catalogs/aws-cesm1-le.json\"\n",
    "col = intake.open_esm_datastore(cat_url)\n",
    "col"
   ]
  },
  {
   "cell_type": "markdown",
   "metadata": {},
   "source": [
    "Show the first few lines of the catalog. There are as many lines as there are\n",
    "paths. The order is the same as that of the CSV catalog file listed in the JSON\n",
    "description file.\n"
   ]
  },
  {
   "cell_type": "code",
   "execution_count": null,
   "metadata": {},
   "outputs": [],
   "source": [
    "print(\"Catalog file:\", col.esmcol_data[\"catalog_file\"])\n",
    "col.df.head(10)"
   ]
  },
  {
   "cell_type": "markdown",
   "metadata": {},
   "source": [
    "**Table:** _First few lines of the original Intake-ESM Catalog showing the model\n",
    "component, the temporal frequency, the experiment, the abbreviated variable\n",
    "name, and the AWS S3 path for each Zarr store._\n"
   ]
  },
  {
   "cell_type": "markdown",
   "metadata": {},
   "source": [
    "Look at unique values and their counts for given columns\n"
   ]
  },
  {
   "cell_type": "code",
   "execution_count": null,
   "metadata": {},
   "outputs": [],
   "source": [
    "uniques_orig = col.unique(\n",
    "    columns=[\"component\", \"frequency\", \"experiment\", \"variable\"]\n",
    ")\n",
    "pprint.pprint(uniques_orig, compact=True, indent=1, width=80)"
   ]
  },
  {
   "cell_type": "markdown",
   "metadata": {},
   "source": [
    "## Finding Data\n",
    "\n",
    "If you happen to know the meaning of the variable names, you can find what data\n",
    "are available for that variable. For example:\n"
   ]
  },
  {
   "cell_type": "code",
   "execution_count": null,
   "metadata": {},
   "outputs": [],
   "source": [
    "# Filter the catalog to find available data for one variable\n",
    "col.search(variable=\"FLNS\").df"
   ]
  },
  {
   "cell_type": "markdown",
   "metadata": {},
   "source": [
    "**Table:** _All available Zarr stores for the \"FLNS\" data._\n"
   ]
  },
  {
   "cell_type": "code",
   "execution_count": null,
   "metadata": {},
   "outputs": [],
   "source": [
    "# Narrow the filter to specific frequency and expiriment\n",
    "col.search(variable=\"FLNS\", frequency=\"daily\", experiment=\"RCP85\").df"
   ]
  },
  {
   "cell_type": "markdown",
   "metadata": {},
   "source": [
    "**Table:** _The single Zarr store for daily \"FLNS\" data from \"RCP85\"\n",
    "experiment._\n"
   ]
  },
  {
   "cell_type": "markdown",
   "metadata": {},
   "source": [
    "## The Problem\n"
   ]
  },
  {
   "cell_type": "markdown",
   "metadata": {},
   "source": [
    "Do all potential users know that \"FLNS\" is a CESM-specific abbreviation for \"Net\n",
    "longwave flux at surface\"? How would a novice user find out, other than by\n",
    "finding separate documentation, or by opening a Zarr store in the hopes that the\n",
    "long name might be recorded there? How do we address the fact that every climate\n",
    "model code seems to have a different, non-standard name for all the variables,\n",
    "thus making multi-source research needlessly difficult?\n"
   ]
  },
  {
   "cell_type": "markdown",
   "metadata": {},
   "source": [
    "## Solution: use columns with enhanced information\n"
   ]
  },
  {
   "cell_type": "markdown",
   "metadata": {},
   "source": [
    "By using additional columns in the Intake-ESM catalog, we should be able to\n",
    "improve semantic interoperability and provide potentially useful information to\n",
    "the users.\n"
   ]
  },
  {
   "cell_type": "markdown",
   "metadata": {},
   "source": [
    "### Long names\n",
    "\n",
    "Instead of searching by variable short names, we can use the\n",
    "`variable_long_name`.\n",
    "\n",
    "**ISSUE:** _The long names are **not** CF Standard Names, but rather are those\n",
    "documented\n",
    "[here](http://www.cgd.ucar.edu/ccr/strandwg/CESM-CAM5-BGC_LENS_fields.html). For\n",
    "interoperability, the `variable_long_name` column should be supplemented by a\n",
    "`cf_name` column and possibly an attribute column to disambiguate if needed._\n"
   ]
  },
  {
   "cell_type": "code",
   "execution_count": null,
   "metadata": {},
   "outputs": [],
   "source": [
    "col.df.head(10)"
   ]
  },
  {
   "cell_type": "code",
   "execution_count": null,
   "metadata": {},
   "outputs": [],
   "source": [
    "# List all available variables by Long Name, sorted alphabetically\n",
    "uniques = col.unique(columns=[\"variable_long_name\"])\n",
    "namelist = sorted(uniques[\"variable_long_name\"][\"values\"])\n",
    "[x for x in namelist]"
   ]
  },
  {
   "cell_type": "code",
   "execution_count": null,
   "metadata": {},
   "outputs": [],
   "source": [
    "# Show all available data for a specific variable based on long name\n",
    "varname = \"salinity\"\n",
    "col.search(variable_long_name=varname).df"
   ]
  },
  {
   "cell_type": "markdown",
   "metadata": {},
   "source": [
    "**Table:** _All available data in this catalog for selected variable_\n"
   ]
  },
  {
   "cell_type": "markdown",
   "metadata": {},
   "source": [
    "### Substring matches\n",
    "\n",
    "With use of wildcards and/or regular expressions, we can find all variables with\n",
    "a particular substring in the long name:\n"
   ]
  },
  {
   "cell_type": "code",
   "execution_count": null,
   "metadata": {},
   "outputs": [],
   "source": [
    "# Find all entries with `wind` in their variable_long_name\n",
    "col.search(variable_long_name=\"wind*\").df"
   ]
  },
  {
   "cell_type": "code",
   "execution_count": null,
   "metadata": {},
   "outputs": [],
   "source": [
    "# Find all entries whose variable long name starts with `wind`\n",
    "col.search(variable_long_name=\"^wind\").df"
   ]
  },
  {
   "cell_type": "markdown",
   "metadata": {},
   "source": [
    "**Table(s):** _Information about all matching datasets_\n"
   ]
  },
  {
   "cell_type": "markdown",
   "metadata": {},
   "source": [
    "## Loading data into xarray datasets\n",
    "\n",
    "Once we are satisfied with the results of our searches, we can use the\n",
    "`to_dataset_dict()` method to load the data into xarray datasets.\n"
   ]
  },
  {
   "cell_type": "code",
   "execution_count": null,
   "metadata": {},
   "outputs": [],
   "source": [
    "dsets = col.search(\n",
    "    variable_long_name=\"temp*\",\n",
    "    frequency=\"monthly\",\n",
    "    experiment=\"20C\",\n",
    "    component=\"ocn\",\n",
    ").to_dataset_dict(zarr_kwargs={\"consolidated\": True})\n",
    "dsets"
   ]
  },
  {
   "cell_type": "markdown",
   "metadata": {},
   "source": [
    "### Grid variables\n"
   ]
  },
  {
   "cell_type": "markdown",
   "metadata": {},
   "source": [
    "Grid variables, including the latitudes and longitudes of tracer points, do not\n",
    "have variable names or long names. So, to find them we need to use the\n",
    "`frequency='static'` query:\n"
   ]
  },
  {
   "cell_type": "code",
   "execution_count": null,
   "metadata": {},
   "outputs": [],
   "source": [
    "col.search(frequency=\"static\").df"
   ]
  },
  {
   "cell_type": "code",
   "execution_count": null,
   "metadata": {},
   "outputs": [],
   "source": [
    "# To load grid variables for a specific component and experiment\n",
    "_, grid = (\n",
    "    col.search(frequency=\"static\", component=\"ocn\", experiment=\"20C\")\n",
    "    .to_dataset_dict(aggregate=False, zarr_kwargs={\"consolidated\": True})\n",
    "    .popitem()\n",
    ")\n",
    "grid"
   ]
  }
 ],
 "metadata": {
  "kernelspec": {
   "display_name": "Python 3",
   "language": "python",
   "name": "python3"
  },
  "language_info": {
   "codemirror_mode": {
    "name": "ipython",
    "version": 3
   },
   "file_extension": ".py",
   "mimetype": "text/x-python",
   "name": "python",
   "nbconvert_exporter": "python",
   "pygments_lexer": "ipython3",
   "version": "3.8.3"
  },
  "toc": {
   "base_numbering": 1,
   "nav_menu": {},
   "number_sections": true,
   "sideBar": true,
   "skip_h1_title": false,
   "title_cell": "Table of Contents",
   "title_sidebar": "Contents",
   "toc_cell": true,
   "toc_position": {},
   "toc_section_display": true,
   "toc_window_display": true
  }
 },
 "nbformat": 4,
 "nbformat_minor": 4
}
