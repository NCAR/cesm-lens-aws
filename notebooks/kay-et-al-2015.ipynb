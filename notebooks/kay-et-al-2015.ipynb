{
 "cells": [
  {
   "cell_type": "code",
   "execution_count": null,
   "metadata": {},
   "outputs": [],
   "source": [
    "%matplotlib inline\n",
    "import warnings\n",
    "warnings.filterwarnings('ignore')\n",
    "import intake\n",
    "import numpy as np\n",
    "import pandas as pd\n",
    "import xarray as xr\n",
    "import matplotlib.pyplot as plt\n",
    "import scipy.stats"
   ]
  },
  {
   "cell_type": "code",
   "execution_count": null,
   "metadata": {},
   "outputs": [],
   "source": [
    "# Silence dask.distributed logs\n",
    "import logging\n",
    "logger = logging.getLogger(\"distributed.utils_perf\")\n",
    "logger.setLevel(logging.ERROR)"
   ]
  },
  {
   "cell_type": "markdown",
   "metadata": {},
   "source": [
    "## Create Dask Cluster"
   ]
  },
  {
   "cell_type": "code",
   "execution_count": null,
   "metadata": {},
   "outputs": [],
   "source": [
    "from dask_kubernetes import KubeCluster\n",
    "from dask.distributed import Client\n",
    "\n",
    "cluster = KubeCluster()\n",
    "cluster.adapt(minimum=2, maximum=100, wait_count=60)\n",
    "client = Client(cluster)\n",
    "client"
   ]
  },
  {
   "cell_type": "code",
   "execution_count": null,
   "metadata": {},
   "outputs": [],
   "source": [
    "cluster"
   ]
  },
  {
   "cell_type": "markdown",
   "metadata": {},
   "source": [
    "## Load data into xarray from an intake catalog"
   ]
  },
  {
   "cell_type": "code",
   "execution_count": null,
   "metadata": {},
   "outputs": [],
   "source": [
    "cat = intake.Catalog('https://raw.githubusercontent.com/NCAR/cesm-lens-aws/master/intake-catalogs/atmosphere/daily.yaml')\n",
    "\n",
    "ds_20C = cat['reference_height_temperature_20C'].to_dask()\n",
    "ds_rcp = cat['reference_height_temperature_RCP85'].to_dask()\n",
    "t_20c = ds_20C['TREFHT']\n",
    "t_rcp = ds_rcp['TREFHT']"
   ]
  },
  {
   "cell_type": "code",
   "execution_count": null,
   "metadata": {},
   "outputs": [],
   "source": [
    "t_ref = t_20c.sel(time=slice('1961', '1990'))\n",
    "t_ref"
   ]
  },
  {
   "cell_type": "markdown",
   "metadata": {},
   "source": [
    "## Compute areacella"
   ]
  },
  {
   "cell_type": "markdown",
   "metadata": {},
   "source": [
    "Area element: $\\delta A = R^2 \\delta \\phi \\delta \\lambda \\cos(\\phi)$\n",
    "\n",
    "where $\\phi$ is latitude, $\\delta \\phi$ is the spacing of the points in latitude, $\\delta \\lambda$ is the spacing of the points in longitude, and $R$ is Earth's radius. (In this formula, $\\phi$ and $\\lambda$ are measured in radians.)"
   ]
  },
  {
   "cell_type": "code",
   "execution_count": null,
   "metadata": {},
   "outputs": [],
   "source": [
    "R = 6.371e6\n",
    "total_area = (4 * np.pi * R**2)\n",
    "dϕ = np.radians((t_ref['lat'][1]-t_ref['lat'][0]).values)\n",
    "dλ = np.radians((t_ref['lon'][1]-t_ref['lon'][0]).values)\n",
    "dA = R**2 * np.abs(dϕ * dλ) * np.cos(np.radians(t_ref.lat))\n",
    "areacella = dA * (0 * t_ref.isel(member_id=0, time=0) + 1)\n",
    "areacella.plot()"
   ]
  },
  {
   "cell_type": "code",
   "execution_count": null,
   "metadata": {},
   "outputs": [],
   "source": [
    "areacella.sum().values / total_area"
   ]
  },
  {
   "cell_type": "markdown",
   "metadata": {},
   "source": [
    "## Compute Weighted Means"
   ]
  },
  {
   "cell_type": "code",
   "execution_count": null,
   "metadata": {},
   "outputs": [],
   "source": [
    "t_ref_ts = ((t_ref.resample(time='AS').mean('time') * areacella).sum(dim=('lat', 'lon')) / total_area).mean(dim=('time', 'member_id'))\n",
    "t_20c_ts = ((t_20c.resample(time='AS').mean('time') * areacella).sum(dim=('lat', 'lon'))) / total_area\n",
    "t_rcp_ts = ((t_rcp.resample(time='AS').mean('time') * areacella).sum(dim=('lat', 'lon'))) / total_area"
   ]
  },
  {
   "cell_type": "code",
   "execution_count": null,
   "metadata": {},
   "outputs": [],
   "source": [
    "t_ref_mean = t_ref_ts.load()\n",
    "t_ref_mean"
   ]
  },
  {
   "cell_type": "code",
   "execution_count": null,
   "metadata": {},
   "outputs": [],
   "source": [
    "t_20c_ts_df = t_20c_ts.to_series().unstack().T\n",
    "t_20c_ts_df.head()"
   ]
  },
  {
   "cell_type": "code",
   "execution_count": null,
   "metadata": {},
   "outputs": [],
   "source": [
    "t_rcp_ts_df = t_rcp_ts.to_series().unstack().T\n",
    "t_rcp_ts_df.head()"
   ]
  },
  {
   "cell_type": "markdown",
   "metadata": {},
   "source": [
    "## Get Observations (HadCRUT4; Morice et al. 2012)"
   ]
  },
  {
   "cell_type": "code",
   "execution_count": null,
   "metadata": {},
   "outputs": [],
   "source": [
    "ds = xr.open_dataset('https://www.esrl.noaa.gov/psd/thredds/dodsC/Datasets/cru/hadcrut4/air.mon.anom.median.nc').load()\n",
    "ds"
   ]
  },
  {
   "cell_type": "markdown",
   "metadata": {},
   "source": [
    "- **Obs mean: weight by days in Each Month**"
   ]
  },
  {
   "cell_type": "code",
   "execution_count": null,
   "metadata": {},
   "outputs": [],
   "source": [
    "def weighted_temporal_mean(ds):\n",
    "    time_bound_diff = ds.time_bnds.diff(dim='nbnds')[:, 0]\n",
    "    wgts = time_bound_diff.groupby('time.year') / time_bound_diff.groupby('time.year')\\\n",
    "                      .sum(xr.ALL_DIMS)\n",
    "    np.testing.assert_allclose(wgts.groupby('time.year').sum(xr.ALL_DIMS), 1.0)\n",
    "    obs = ds['air']\n",
    "    cond = obs.isnull()\n",
    "    ones = xr.where(cond, 0.0, 1.0)\n",
    "    obs_sum = (obs * wgts).resample(time='AS').sum(dim='time')\n",
    "    ones_out = (ones * wgts).resample(time='AS').sum(dim='time')\n",
    "    obs_s = (obs_sum / ones_out).mean(('lat', 'lon')).to_series()\n",
    "    return obs_s"
   ]
  },
  {
   "cell_type": "code",
   "execution_count": null,
   "metadata": {},
   "outputs": [],
   "source": [
    "obs_s = weighted_temporal_mean(ds)\n",
    "obs_s.head()"
   ]
  },
  {
   "cell_type": "code",
   "execution_count": null,
   "metadata": {},
   "outputs": [],
   "source": [
    "all_ts_anom = pd.concat([t_20c_ts_df, t_rcp_ts_df]) - t_ref_mean.data\n",
    "years = [val.year for val in all_ts_anom.index]"
   ]
  },
  {
   "cell_type": "markdown",
   "metadata": {},
   "source": [
    "## Confirm that after using area weighted average, max temp increase is 5k"
   ]
  },
  {
   "cell_type": "code",
   "execution_count": null,
   "metadata": {},
   "outputs": [],
   "source": [
    "np.testing.assert_allclose(all_ts_anom.values.max(), 5.0, rtol=0.02)"
   ]
  },
  {
   "cell_type": "markdown",
   "metadata": {},
   "source": [
    "## Figure 2: Global surface temperature anomaly (1961-90 base period) for individual ensemble members, and observations"
   ]
  },
  {
   "cell_type": "code",
   "execution_count": null,
   "metadata": {},
   "outputs": [],
   "source": [
    "ax = plt.axes()\n",
    "\n",
    "ax.tick_params(right=True, top=True, direction='out', length=6, width=2, grid_alpha=0.5)\n",
    "ax.plot(years, all_ts_anom, color='grey')\n",
    "ax.plot(years, all_ts_anom[1], color='black')\n",
    "ax.plot(obs_s.index.year.tolist(), obs_s, color='red')\n",
    "\n",
    "ax.text(0.3, 0.4, 'observations',\n",
    "        verticalalignment='bottom', horizontalalignment='left',\n",
    "        transform=ax.transAxes,\n",
    "        color='red', fontsize=10)\n",
    "ax.text(0.3, 0.3, 'members 1-40',\n",
    "        verticalalignment='bottom', horizontalalignment='left',\n",
    "        transform=ax.transAxes,\n",
    "        color='grey', fontsize=10)\n",
    "\n",
    "ax.set_xticks([1850, 1920, 1950, 2000, 2050, 2100])\n",
    "plt.ylim(-1, 5)\n",
    "plt.xlim(1850, 2100)\n",
    "plt.ylabel('Global Surface\\nTemperature Anomaly (K)')\n",
    "plt.show()"
   ]
  },
  {
   "cell_type": "markdown",
   "metadata": {},
   "source": [
    "## Compute Linear Trend for Winter Seasons"
   ]
  },
  {
   "cell_type": "code",
   "execution_count": null,
   "metadata": {},
   "outputs": [],
   "source": [
    "def linear_trend(da, dim='time'):\n",
    "    da_chunk = da.chunk({dim: -1})\n",
    "    trend = xr.apply_ufunc(calc_slope, da_chunk,\n",
    "                           vectorize=True,\n",
    "                           input_core_dims=[[dim]],\n",
    "                           output_core_dims=[[]],\n",
    "                           output_dtypes=[np.float],\n",
    "                           dask='parallelized')\n",
    "    return trend\n",
    "    \n",
    "\n",
    "def calc_slope(y):\n",
    "    \"\"\"ufunc to be used by linear_trend\"\"\"\n",
    "    x = np.arange(len(y))\n",
    "    return np.polyfit(x, y, 1)[0]"
   ]
  },
  {
   "cell_type": "code",
   "execution_count": null,
   "metadata": {},
   "outputs": [],
   "source": [
    "t = xr.concat([t_20c, t_rcp], dim='time')\n",
    "seasons = t.sel(time=slice('1979', '2012')).resample(time='QS-DEC').mean('time')\n",
    "# Include only full seasons from 1979 and 2012\n",
    "seasons = seasons.sel(time=slice('1979', '2012')).load()\n",
    "seasons"
   ]
  },
  {
   "cell_type": "code",
   "execution_count": null,
   "metadata": {},
   "outputs": [],
   "source": [
    "winter_seasons = seasons.sel(time=seasons.time.where(seasons.time.dt.month == 12, drop=True))\n",
    "winter_trends = linear_trend(winter_seasons.chunk({'lat': 20, 'lon': 20, 'time': -1}))\\\n",
    "                .load() * len(winter_seasons.time)"
   ]
  },
  {
   "cell_type": "code",
   "execution_count": null,
   "metadata": {},
   "outputs": [],
   "source": [
    "# Make sure that we have 34 seasons\n",
    "assert len(winter_seasons.time) == 34 "
   ]
  },
  {
   "cell_type": "markdown",
   "metadata": {},
   "source": [
    "## Figure 4: Global maps of historical (1979 - 2012) boreal winter (DJF) surface air trends"
   ]
  },
  {
   "cell_type": "code",
   "execution_count": null,
   "metadata": {},
   "outputs": [],
   "source": [
    "import cartopy.crs as ccrs\n",
    "import matplotlib.colors as colors"
   ]
  },
  {
   "cell_type": "code",
   "execution_count": null,
   "metadata": {},
   "outputs": [],
   "source": [
    "!pip install git+https://github.com/hhuangwx/cmaps.git"
   ]
  },
  {
   "cell_type": "code",
   "execution_count": null,
   "metadata": {},
   "outputs": [],
   "source": [
    "import cmaps # for NCL colormaps: "
   ]
  },
  {
   "cell_type": "code",
   "execution_count": null,
   "metadata": {},
   "outputs": [],
   "source": [
    "cmap = cmaps.amwg_blueyellowred\n",
    "levels = [-7, -6, -5, -4, -3, -2, -1.5, -1, -0.5, 0, 0.5, 1, 1.5, 2, 3, 4, 5, 6, 7]\n",
    "# norm = colors.BoundaryNorm(boundaries=levels, ncolors=len(levels)-1)\n",
    "# norm = colors.Normalize(vmin=levels[0], vmax=levels[-1], clip=True)\n",
    "norm = colors.DivergingNorm(vmin=levels[0], vmax=levels[-1], vcenter=0)"
   ]
  },
  {
   "cell_type": "code",
   "execution_count": null,
   "metadata": {},
   "outputs": [],
   "source": [
    "fig = plt.figure(dpi=300)\n",
    "fg = winter_trends.plot(col='member_id', col_wrap=4, transform=ccrs.PlateCarree(),\n",
    "            subplot_kws={'projection': ccrs.Robinson(central_longitude=180)},\n",
    "            add_colorbar=False, levels=levels, cmap=cmap, norm=norm, extend='neither',)\n",
    "\n",
    "for ax in fg.axes.flat:\n",
    "    ax.coastlines(color='grey')\n",
    "    \n",
    "# TODO: move the subplot title to lower left corners\n",
    "# TODO: Add obs panel and ensemble mean at the end\n",
    "    \n",
    "fg.add_colorbar(orientation='horizontal')\n",
    "fg.cbar.set_label('1979-2012 DJF surface air temperature trends (K/34 years)')\n",
    "fg.cbar.set_ticks(levels)\n",
    "fg.cbar.set_ticklabels(levels)"
   ]
  },
  {
   "cell_type": "code",
   "execution_count": null,
   "metadata": {},
   "outputs": [],
   "source": []
  }
 ],
 "metadata": {
  "kernelspec": {
   "display_name": "Python 3",
   "language": "python",
   "name": "python3"
  },
  "language_info": {
   "codemirror_mode": {
    "name": "ipython",
    "version": 3
   },
   "file_extension": ".py",
   "mimetype": "text/x-python",
   "name": "python",
   "nbconvert_exporter": "python",
   "pygments_lexer": "ipython3",
   "version": "3.7.3"
  }
 },
 "nbformat": 4,
 "nbformat_minor": 4
}
