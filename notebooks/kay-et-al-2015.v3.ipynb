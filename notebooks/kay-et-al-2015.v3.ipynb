{
 "cells": [
  {
   "cell_type": "markdown",
   "metadata": {},
   "source": [
    "# Reproducing Key Figures from Kay et al. (2015) Paper\n",
    "\n",
    "## Introduction\n",
    "\n",
    "This Jupyter Notebook demonstrates how one might use the NCAR Community Earth\n",
    "System Model (CESM) Large Ensemble (LENS) data hosted on AWS S3\n",
    "([doi:10.26024/wt24-5j82](https://doi.org/10.26024/wt24-5j82)). The notebook\n",
    "shows how to reproduce figures 2 and 4 from the Kay et al. (2015) paper\n",
    "describing the CESM LENS dataset\n",
    "([doi:10.1175/BAMS-D-13-00255.1](https://doi.org/10.1175/BAMS-D-13-00255.1))\n",
    "\n",
    "This resource is intended to be helpful for people not familiar with elements of\n",
    "the [Pangeo](https://pangeo.io) framework including Jupyter Notebooks,\n",
    "[Xarray](http://xarray.pydata.org/), and [Zarr](https://zarr.readthedocs.io/)\n",
    "data format, or with the original paper, so it includes additional explanation.\n"
   ]
  },
  {
   "cell_type": "markdown",
   "metadata": {},
   "source": [
    "## Set up environment\n"
   ]
  },
  {
   "cell_type": "code",
   "execution_count": null,
   "metadata": {},
   "outputs": [],
   "source": [
    "import warnings\n",
    "\n",
    "warnings.filterwarnings(\"ignore\")\n",
    "\n",
    "import intake\n",
    "import numpy as np\n",
    "import pandas as pd\n",
    "import xarray as xr"
   ]
  },
  {
   "cell_type": "markdown",
   "metadata": {},
   "source": [
    "## Create and Connect to Dask Distributed Cluster\n"
   ]
  },
  {
   "cell_type": "code",
   "execution_count": null,
   "metadata": {},
   "outputs": [],
   "source": [
    "from dask.distributed import Client\n",
    "\n",
    "# Create cluster\n",
    "from dask_gateway import Gateway\n",
    "\n",
    "gateway = Gateway()\n",
    "cluster = gateway.new_cluster()\n",
    "cluster.adapt(minimum=2, maximum=100)\n",
    "# Connect to cluster\n",
    "client = Client(cluster)\n",
    "# Display cluster dashboard URL\n",
    "cluster"
   ]
  },
  {
   "cell_type": "markdown",
   "metadata": {},
   "source": [
    "☝️ Link to scheduler dashboard will appear above.\n"
   ]
  },
  {
   "cell_type": "markdown",
   "metadata": {},
   "source": [
    "## Load data into xarray from a catalog using intake-esm\n",
    "\n",
    "- [Intake-esm Documentation](https://intake-esm.readthedocs.io/en/latest/notebooks/tutorial.html)\n"
   ]
  },
  {
   "cell_type": "code",
   "execution_count": null,
   "metadata": {},
   "outputs": [],
   "source": [
    "# Open collection description file\n",
    "catalog_url = \"https://ncar-cesm-lens.s3-us-west-2.amazonaws.com/catalogs/aws-cesm1-le.json\"\n",
    "col = intake.open_esm_datastore(catalog_url)\n",
    "col"
   ]
  },
  {
   "cell_type": "code",
   "execution_count": null,
   "metadata": {},
   "outputs": [],
   "source": [
    "# Show the first few lines of the catalog\n",
    "col.df.head(10)"
   ]
  },
  {
   "cell_type": "code",
   "execution_count": null,
   "metadata": {},
   "outputs": [],
   "source": [
    "# Show expanded version of collection structure with details\n",
    "import pprint\n",
    "\n",
    "uniques = col.unique(\n",
    "    columns=[\"component\", \"frequency\", \"experiment\", \"variable\"]\n",
    ")\n",
    "pprint.pprint(uniques, compact=True, indent=4)"
   ]
  },
  {
   "cell_type": "markdown",
   "metadata": {},
   "source": [
    "## Extract data needed to construct Figure 2 of Kay et al. paper\n",
    "\n",
    "Search the catalog to find the desired data, in this case the reference height\n",
    "temperature of the atmosphere, at daily time resolution, for the Historical,\n",
    "20th Century, and RCP8.5 (IPCC Representative Concentration Pathway 8.5)\n",
    "experiments\n"
   ]
  },
  {
   "cell_type": "code",
   "execution_count": null,
   "metadata": {},
   "outputs": [],
   "source": [
    "col_subset = col.search(\n",
    "    frequency=[\"daily\", \"monthly\"],\n",
    "    component=\"atm\",\n",
    "    variable=\"TREFHT\",\n",
    "    experiment=[\"20C\", \"RCP85\", \"HIST\"],\n",
    ")\n",
    "\n",
    "col_subset"
   ]
  },
  {
   "cell_type": "code",
   "execution_count": null,
   "metadata": {},
   "outputs": [],
   "source": [
    "col_subset.df"
   ]
  },
  {
   "cell_type": "code",
   "execution_count": null,
   "metadata": {},
   "outputs": [],
   "source": [
    "# Load catalog entries for subset into a dictionary of xarray datasets\n",
    "dsets = col_subset.to_dataset_dict(\n",
    "    zarr_kwargs={\"consolidated\": True}, storage_options={\"anon\": True}\n",
    ")\n",
    "print(f\"\\nDataset dictionary keys:\\n {dsets.keys()}\")"
   ]
  },
  {
   "cell_type": "code",
   "execution_count": null,
   "metadata": {},
   "outputs": [],
   "source": [
    "# Define Xarray datasets corresponding to the three experiments\n",
    "ds_HIST = dsets[\"atm.HIST.monthly\"]\n",
    "ds_20C = dsets[\"atm.20C.daily\"]\n",
    "ds_RCP85 = dsets[\"atm.RCP85.daily\"]"
   ]
  },
  {
   "cell_type": "code",
   "execution_count": null,
   "metadata": {},
   "outputs": [],
   "source": [
    "# Use Dask.Distributed utility function to display size of each dataset\n",
    "from distributed.utils import format_bytes\n",
    "\n",
    "print(\n",
    "    f\"Historical: {format_bytes(ds_HIST.nbytes)}\\n\"\n",
    "    f\"20th Century: {format_bytes(ds_20C.nbytes)}\\n\"\n",
    "    f\"RCP8.5: {format_bytes(ds_RCP85.nbytes)}\"\n",
    ")"
   ]
  },
  {
   "cell_type": "code",
   "execution_count": null,
   "metadata": {},
   "outputs": [],
   "source": [
    "# Extract the Reference Height Temperature data variable\n",
    "t_hist = ds_HIST[\"TREFHT\"]\n",
    "t_20c = ds_20C[\"TREFHT\"]\n",
    "t_rcp = ds_RCP85[\"TREFHT\"]\n",
    "t_20c"
   ]
  },
  {
   "cell_type": "code",
   "execution_count": null,
   "metadata": {},
   "outputs": [],
   "source": [
    "# The global surface temperature anomaly was computed relative to the 1961-90 base period\n",
    "# in the Kay et al. paper, so extract that time slice\n",
    "t_ref = t_20c.sel(time=slice(\"1961\", \"1990\"))"
   ]
  },
  {
   "cell_type": "markdown",
   "metadata": {},
   "source": [
    "## Read grid cell areas\n",
    "\n",
    "Cell size varies with latitude, so this must be accounted for when computing the\n",
    "global mean.\n"
   ]
  },
  {
   "cell_type": "code",
   "execution_count": null,
   "metadata": {},
   "outputs": [],
   "source": [
    "cat = col.search(frequency=\"static\", component=\"atm\", experiment=[\"20C\"])\n",
    "_, grid = cat.to_dataset_dict(\n",
    "    aggregate=False, zarr_kwargs={\"consolidated\": True}\n",
    ").popitem()\n",
    "grid"
   ]
  },
  {
   "cell_type": "code",
   "execution_count": null,
   "metadata": {},
   "outputs": [],
   "source": [
    "cell_area = grid.area.load()\n",
    "total_area = cell_area.sum()\n",
    "cell_area"
   ]
  },
  {
   "cell_type": "markdown",
   "metadata": {},
   "source": [
    "## Define weighted means\n",
    "\n",
    "Note: `resample(time=\"AS\")` does an Annual resampling based on Start of calendar\n",
    "year.\n",
    "\n",
    "See documentation for\n",
    "[Pandas resampling options](https://pandas.pydata.org/pandas-docs/stable/user_guide/timeseries.html#dateoffset-objects)\n"
   ]
  },
  {
   "cell_type": "code",
   "execution_count": null,
   "metadata": {},
   "outputs": [],
   "source": [
    "t_ref_ts = (\n",
    "    (t_ref.resample(time=\"AS\").mean(\"time\") * cell_area).sum(dim=(\"lat\", \"lon\"))\n",
    "    / total_area\n",
    ").mean(dim=(\"time\", \"member_id\"))\n",
    "\n",
    "t_hist_ts = (\n",
    "    (t_hist.resample(time=\"AS\").mean(\"time\") * cell_area).sum(\n",
    "        dim=(\"lat\", \"lon\")\n",
    "    )\n",
    ") / total_area\n",
    "\n",
    "t_20c_ts = (\n",
    "    (t_20c.resample(time=\"AS\").mean(\"time\") * cell_area).sum(dim=(\"lat\", \"lon\"))\n",
    ") / total_area\n",
    "\n",
    "t_rcp_ts = (\n",
    "    (t_rcp.resample(time=\"AS\").mean(\"time\") * cell_area).sum(dim=(\"lat\", \"lon\"))\n",
    ") / total_area"
   ]
  },
  {
   "cell_type": "markdown",
   "metadata": {},
   "source": [
    "## Read data and compute means\n",
    "\n",
    "Note: Dask's \"lazy execution\" philosophy means that until this point we have not\n",
    "actually read the bulk of the data. These steps take a while to complete, so we\n",
    "include the Notebook \"cell magic\" directive `%%time` to display elapsed and CPU\n",
    "times after computation.\n"
   ]
  },
  {
   "cell_type": "code",
   "execution_count": null,
   "metadata": {},
   "outputs": [],
   "source": [
    "%%time\n",
    "t_ref_mean = t_ref_ts.load()\n",
    "t_ref_mean"
   ]
  },
  {
   "cell_type": "code",
   "execution_count": null,
   "metadata": {},
   "outputs": [],
   "source": [
    "%%time\n",
    "t_hist_ts_df = t_hist_ts.to_series().T\n",
    "t_hist_ts_df.head()"
   ]
  },
  {
   "cell_type": "code",
   "execution_count": null,
   "metadata": {},
   "outputs": [],
   "source": [
    "%%time\n",
    "t_20c_ts_df = t_20c_ts.to_series().unstack().T\n",
    "t_20c_ts_df.head()"
   ]
  },
  {
   "cell_type": "code",
   "execution_count": null,
   "metadata": {},
   "outputs": [],
   "source": [
    "%%time\n",
    "t_rcp_ts_df = t_rcp_ts.to_series().unstack().T\n",
    "t_rcp_ts_df.head()"
   ]
  },
  {
   "cell_type": "markdown",
   "metadata": {},
   "source": [
    "## Get observations for figure 2 (HadCRUT4; Morice et al. 2012)\n"
   ]
  },
  {
   "cell_type": "code",
   "execution_count": null,
   "metadata": {},
   "outputs": [],
   "source": [
    "# Observational time series data for comparison with ensemble average\n",
    "obsDataURL = \"https://www.esrl.noaa.gov/psd/thredds/dodsC/Datasets/cru/hadcrut4/air.mon.anom.median.nc\""
   ]
  },
  {
   "cell_type": "code",
   "execution_count": null,
   "metadata": {},
   "outputs": [],
   "source": [
    "ds = xr.open_dataset(obsDataURL).load()\n",
    "ds"
   ]
  },
  {
   "cell_type": "code",
   "execution_count": null,
   "metadata": {},
   "outputs": [],
   "source": [
    "def weighted_temporal_mean(ds):\n",
    "    \"\"\"\n",
    "    weight by days in each month\n",
    "    \"\"\"\n",
    "    time_bound_diff = ds.time_bnds.diff(dim=\"nbnds\")[:, 0]\n",
    "    wgts = time_bound_diff.groupby(\"time.year\") / time_bound_diff.groupby(\n",
    "        \"time.year\"\n",
    "    ).sum(xr.ALL_DIMS)\n",
    "    np.testing.assert_allclose(wgts.groupby(\"time.year\").sum(xr.ALL_DIMS), 1.0)\n",
    "    obs = ds[\"air\"]\n",
    "    cond = obs.isnull()\n",
    "    ones = xr.where(cond, 0.0, 1.0)\n",
    "    obs_sum = (obs * wgts).resample(time=\"AS\").sum(dim=\"time\")\n",
    "    ones_out = (ones * wgts).resample(time=\"AS\").sum(dim=\"time\")\n",
    "    obs_s = (obs_sum / ones_out).mean((\"lat\", \"lon\")).to_series()\n",
    "    return obs_s"
   ]
  },
  {
   "cell_type": "markdown",
   "metadata": {},
   "source": [
    "- **Limit Observations to 20th Century**\n"
   ]
  },
  {
   "cell_type": "code",
   "execution_count": null,
   "metadata": {},
   "outputs": [],
   "source": [
    "obs_s = weighted_temporal_mean(ds)\n",
    "obs_s = obs_s[\"1920\":]\n",
    "obs_s.head()"
   ]
  },
  {
   "cell_type": "code",
   "execution_count": null,
   "metadata": {},
   "outputs": [],
   "source": [
    "all_ts_anom = pd.concat([t_20c_ts_df, t_rcp_ts_df]) - t_ref_mean.data\n",
    "years = [val.year for val in all_ts_anom.index]\n",
    "obs_years = [val.year for val in obs_s.index]"
   ]
  },
  {
   "cell_type": "code",
   "execution_count": null,
   "metadata": {},
   "outputs": [],
   "source": [
    "# Combine ensemble member 1 data from historical and 20th century experiments\n",
    "hist_anom = t_hist_ts_df - t_ref_mean.data\n",
    "member1 = pd.concat(\n",
    "    [hist_anom.iloc[:-2], all_ts_anom.iloc[:, 0]], verify_integrity=True\n",
    ")\n",
    "member1_years = [val.year for val in member1.index]"
   ]
  },
  {
   "cell_type": "markdown",
   "metadata": {},
   "source": [
    "## Figure 2: Global surface temperature anomaly (1961-90 base period) for individual ensemble members, and observations\n"
   ]
  },
  {
   "cell_type": "code",
   "execution_count": null,
   "metadata": {},
   "outputs": [],
   "source": [
    "import matplotlib.pyplot as plt"
   ]
  },
  {
   "cell_type": "code",
   "execution_count": null,
   "metadata": {},
   "outputs": [],
   "source": [
    "ax = plt.axes()\n",
    "\n",
    "ax.tick_params(\n",
    "    right=True, top=True, direction=\"out\", length=6, width=2, grid_alpha=0.5\n",
    ")\n",
    "ax.plot(years, all_ts_anom.iloc[:, 1:], color=\"grey\")\n",
    "ax.plot(obs_years, obs_s[\"1920\":], color=\"red\")\n",
    "ax.plot(member1_years, member1, color=\"black\")\n",
    "\n",
    "\n",
    "ax.text(\n",
    "    0.35,\n",
    "    0.4,\n",
    "    \"observations\",\n",
    "    verticalalignment=\"bottom\",\n",
    "    horizontalalignment=\"left\",\n",
    "    transform=ax.transAxes,\n",
    "    color=\"red\",\n",
    "    fontsize=10,\n",
    ")\n",
    "ax.text(\n",
    "    0.35,\n",
    "    0.33,\n",
    "    \"members 2-40\",\n",
    "    verticalalignment=\"bottom\",\n",
    "    horizontalalignment=\"left\",\n",
    "    transform=ax.transAxes,\n",
    "    color=\"grey\",\n",
    "    fontsize=10,\n",
    ")\n",
    "ax.text(\n",
    "    0.05,\n",
    "    0.2,\n",
    "    \"member 1\",\n",
    "    verticalalignment=\"bottom\",\n",
    "    horizontalalignment=\"left\",\n",
    "    transform=ax.transAxes,\n",
    "    color=\"black\",\n",
    "    fontsize=10,\n",
    ")\n",
    "\n",
    "ax.set_xticks([1850, 1920, 1950, 2000, 2050, 2100])\n",
    "plt.ylim(-1, 5)\n",
    "plt.xlim(1850, 2100)\n",
    "plt.ylabel(\"Global Surface\\nTemperature Anomaly (K)\")\n",
    "plt.show()"
   ]
  },
  {
   "cell_type": "markdown",
   "metadata": {},
   "source": [
    "Figure will appear above when ready. Compare with Fig.2 of Kay et al. 2015\n",
    "([doi:10.1175/BAMS-D-13-00255.1](https://doi.org/10.1175/BAMS-D-13-00255.1))\n",
    "\n",
    "![figure-2](https://github.com/NCAR/cesm-lens-aws/raw/master/notebooks/images/bams-d-13-00255_1-f2.jpeg)\n"
   ]
  },
  {
   "cell_type": "markdown",
   "metadata": {},
   "source": [
    "## Compute linear trend for winter seasons\n"
   ]
  },
  {
   "cell_type": "code",
   "execution_count": null,
   "metadata": {},
   "outputs": [],
   "source": [
    "def linear_trend(da, dim=\"time\"):\n",
    "    da_chunk = da.chunk({dim: -1})\n",
    "    trend = xr.apply_ufunc(\n",
    "        calc_slope,\n",
    "        da_chunk,\n",
    "        vectorize=True,\n",
    "        input_core_dims=[[dim]],\n",
    "        output_core_dims=[[]],\n",
    "        output_dtypes=[np.float],\n",
    "        dask=\"parallelized\",\n",
    "    )\n",
    "    return trend\n",
    "\n",
    "\n",
    "def calc_slope(y):\n",
    "    \"\"\"ufunc to be used by linear_trend\"\"\"\n",
    "    x = np.arange(len(y))\n",
    "\n",
    "    # drop missing values (NaNs) from x and y\n",
    "    finite_indexes = ~np.isnan(y)\n",
    "    slope = (\n",
    "        np.nan\n",
    "        if (np.sum(finite_indexes) < 2)\n",
    "        else np.polyfit(x[finite_indexes], y[finite_indexes], 1)[0]\n",
    "    )\n",
    "    return slope"
   ]
  },
  {
   "cell_type": "markdown",
   "metadata": {},
   "source": [
    "## Compute ensemble trends\n"
   ]
  },
  {
   "cell_type": "code",
   "execution_count": null,
   "metadata": {},
   "outputs": [],
   "source": [
    "t = xr.concat([t_20c, t_rcp], dim=\"time\")\n",
    "seasons = t.sel(time=slice(\"1979\", \"2012\")).resample(time=\"QS-DEC\").mean(\"time\")\n",
    "# Include only full seasons from 1979 and 2012\n",
    "seasons = seasons.sel(time=slice(\"1979\", \"2012\")).load()"
   ]
  },
  {
   "cell_type": "code",
   "execution_count": null,
   "metadata": {},
   "outputs": [],
   "source": [
    "winter_seasons = seasons.sel(\n",
    "    time=seasons.time.where(seasons.time.dt.month == 12, drop=True)\n",
    ")\n",
    "winter_trends = linear_trend(\n",
    "    winter_seasons.chunk({\"lat\": 20, \"lon\": 20, \"time\": -1})\n",
    ").load() * len(winter_seasons.time)\n",
    "\n",
    "# Compute ensemble mean from the first 30 members\n",
    "winter_trends_mean = winter_trends.isel(member_id=range(30)).mean(\n",
    "    dim=\"member_id\"\n",
    ")"
   ]
  },
  {
   "cell_type": "code",
   "execution_count": null,
   "metadata": {},
   "outputs": [],
   "source": [
    "# Make sure that we have 34 seasons\n",
    "assert len(winter_seasons.time) == 34"
   ]
  },
  {
   "cell_type": "markdown",
   "metadata": {},
   "source": [
    "## Get Observations for Figure 4 (NASA GISS GisTemp)\n"
   ]
  },
  {
   "cell_type": "code",
   "execution_count": null,
   "metadata": {},
   "outputs": [],
   "source": [
    "# Observational time series data for comparison with ensemble average\n",
    "# NASA GISS Surface Temperature Analysis, https://data.giss.nasa.gov/gistemp/\n",
    "obsDataURL = (\n",
    "    \"https://data.giss.nasa.gov/pub/gistemp/gistemp1200_GHCNv4_ERSSTv5.nc.gz\"\n",
    ")"
   ]
  },
  {
   "cell_type": "code",
   "execution_count": null,
   "metadata": {},
   "outputs": [],
   "source": [
    "# Download, unzip, and load file\n",
    "import os\n",
    "\n",
    "os.system(\"wget \" + obsDataURL)\n",
    "\n",
    "obsDataFileName = obsDataURL.split(\"/\")[-1]\n",
    "os.system(\"gunzip \" + obsDataFileName)\n",
    "\n",
    "obsDataFileName = obsDataFileName[:-3]\n",
    "ds = xr.open_dataset(obsDataFileName).load()\n",
    "ds"
   ]
  },
  {
   "cell_type": "code",
   "execution_count": null,
   "metadata": {},
   "outputs": [],
   "source": [
    "# Remap longitude range from [-180, 180] to [0, 360] for plotting purposes\n",
    "ds = ds.assign_coords(lon=((ds.lon + 360) % 360)).sortby(\"lon\")\n",
    "ds"
   ]
  },
  {
   "cell_type": "markdown",
   "metadata": {},
   "source": [
    "## Compute observed trends\n"
   ]
  },
  {
   "cell_type": "code",
   "execution_count": null,
   "metadata": {},
   "outputs": [],
   "source": [
    "obs_seasons = (\n",
    "    ds.sel(time=slice(\"1979\", \"2012\")).resample(time=\"QS-DEC\").mean(\"time\")\n",
    ")\n",
    "# Include only full seasons from 1979 through 2012\n",
    "obs_seasons = obs_seasons.sel(time=slice(\"1979\", \"2012\")).load()\n",
    "\n",
    "# Compute observed winter trends\n",
    "obs_winter_seasons = obs_seasons.sel(\n",
    "    time=obs_seasons.time.where(obs_seasons.time.dt.month == 12, drop=True)\n",
    ")\n",
    "obs_winter_seasons"
   ]
  },
  {
   "cell_type": "code",
   "execution_count": null,
   "metadata": {},
   "outputs": [],
   "source": [
    "obs_winter_trends = linear_trend(\n",
    "    obs_winter_seasons.chunk({\"lat\": 20, \"lon\": 20, \"time\": -1})\n",
    ").load() * len(obs_winter_seasons.time)\n",
    "obs_winter_trends"
   ]
  },
  {
   "cell_type": "markdown",
   "metadata": {},
   "source": [
    "## Figure 4: Global maps of historical (1979 - 2012) boreal winter (DJF) surface air trends\n"
   ]
  },
  {
   "cell_type": "code",
   "execution_count": null,
   "metadata": {},
   "outputs": [],
   "source": [
    "import cartopy.crs as ccrs\n",
    "import cmaps  # for NCL colormaps\n",
    "import matplotlib.pyplot as plt\n",
    "\n",
    "contour_levels = [\n",
    "    -6,\n",
    "    -5,\n",
    "    -4,\n",
    "    -3,\n",
    "    -2,\n",
    "    -1.5,\n",
    "    -1,\n",
    "    -0.5,\n",
    "    0,\n",
    "    0.5,\n",
    "    1,\n",
    "    1.5,\n",
    "    2,\n",
    "    3,\n",
    "    4,\n",
    "    5,\n",
    "    6,\n",
    "]\n",
    "\n",
    "color_map = cmaps.ncl_default"
   ]
  },
  {
   "cell_type": "code",
   "execution_count": null,
   "metadata": {},
   "outputs": [],
   "source": [
    "def make_map_plot(nplot_rows, nplot_cols, plot_index, data, plot_label):\n",
    "    \"\"\" Create a single map subplot. \"\"\"\n",
    "    ax = plt.subplot(\n",
    "        nplot_rows,\n",
    "        nplot_cols,\n",
    "        plot_index,\n",
    "        projection=ccrs.Robinson(central_longitude=180),\n",
    "    )\n",
    "    cplot = plt.contourf(\n",
    "        lons,\n",
    "        lats,\n",
    "        data,\n",
    "        levels=contour_levels,\n",
    "        cmap=color_map,\n",
    "        extend=\"both\",\n",
    "        transform=ccrs.PlateCarree(),\n",
    "    )\n",
    "    ax.coastlines(color=\"grey\")\n",
    "    ax.text(0.01, 0.01, plot_label, fontSize=14, transform=ax.transAxes)\n",
    "    return cplot, ax"
   ]
  },
  {
   "cell_type": "code",
   "execution_count": null,
   "metadata": {},
   "outputs": [],
   "source": [
    "# Generate plot (may take a while as many individual maps are generated)\n",
    "numPlotRows = 8\n",
    "numPlotCols = 4\n",
    "figWidth = 20\n",
    "figHeight = 30\n",
    "\n",
    "fig, axs = plt.subplots(numPlotRows, numPlotCols, figsize=(figWidth, figHeight))\n",
    "\n",
    "lats = winter_trends.lat\n",
    "lons = winter_trends.lon\n",
    "\n",
    "# Create ensemble member plots\n",
    "for ensemble_index in range(30):\n",
    "    plot_data = winter_trends.isel(member_id=ensemble_index)\n",
    "    plot_index = ensemble_index + 1\n",
    "    plot_label = str(plot_index)\n",
    "    plotRow = ensemble_index // numPlotCols\n",
    "    plotCol = ensemble_index % numPlotCols\n",
    "    # Retain axes objects for figure colorbar\n",
    "    cplot, axs[plotRow, plotCol] = make_map_plot(\n",
    "        numPlotRows, numPlotCols, plot_index, plot_data, plot_label\n",
    "    )\n",
    "\n",
    "# Create plots for the ensemble mean, observations, and a figure color bar.\n",
    "cplot, axs[7, 2] = make_map_plot(\n",
    "    numPlotRows, numPlotCols, 31, winter_trends_mean, \"EM\"\n",
    ")\n",
    "\n",
    "lats = obs_winter_trends.lat\n",
    "lons = obs_winter_trends.lon\n",
    "cplot, axs[7, 3] = make_map_plot(\n",
    "    numPlotRows, numPlotCols, 32, obs_winter_trends.tempanomaly, \"OBS\"\n",
    ")\n",
    "\n",
    "cbar = fig.colorbar(\n",
    "    cplot, ax=axs, orientation=\"horizontal\", shrink=0.7, pad=0.02\n",
    ")\n",
    "cbar.ax.set_title(\n",
    "    \"1979-2012 DJF surface air temperature trends (K/34 years)\", fontSize=16\n",
    ")\n",
    "cbar.set_ticks(contour_levels)\n",
    "cbar.set_ticklabels(contour_levels)"
   ]
  },
  {
   "cell_type": "markdown",
   "metadata": {},
   "source": [
    "Figure will appear above when ready. Compare with Fig. 4 of Kay et al. 2015\n",
    "([doi:10.1175/BAMS-D-13-00255.1](https://doi.org/10.1175/BAMS-D-13-00255.1)).\n",
    "\n",
    "![](https://github.com/NCAR/cesm-lens-aws/raw/master/notebooks/images/bams-d-13-00255_1-f4.png)\n"
   ]
  },
  {
   "cell_type": "code",
   "execution_count": null,
   "metadata": {},
   "outputs": [],
   "source": [
    "# Gracefully destroy/close our cluster\n",
    "client.close()\n",
    "cluster.close()"
   ]
  }
 ],
 "metadata": {
  "kernelspec": {
   "display_name": "Python 3",
   "language": "python",
   "name": "python3"
  },
  "language_info": {
   "codemirror_mode": {
    "name": "ipython",
    "version": 3
   },
   "file_extension": ".py",
   "mimetype": "text/x-python",
   "name": "python",
   "nbconvert_exporter": "python",
   "pygments_lexer": "ipython3",
   "version": "3.9.1-final"
  },
  "toc": {
   "base_numbering": 1,
   "nav_menu": {},
   "number_sections": true,
   "sideBar": true,
   "skip_h1_title": false,
   "title_cell": "Table of Contents",
   "title_sidebar": "Contents",
   "toc_cell": true,
   "toc_position": {},
   "toc_section_display": true,
   "toc_window_display": true
  }
 },
 "nbformat": 4,
 "nbformat_minor": 4
}
