{
 "cells": [
  {
   "cell_type": "markdown",
   "metadata": {},
   "source": [
    "# Enhanced Intake-ESM Catalog Demo\n",
    "\n",
    "This Jupyter Notebook compares the original Intake-ESM Catalog with an enhanced catalog that includes additional attributes. Both catalogs are an inventory of the NCAR Community Earth System Model (CESM)\n",
    "Large Ensemble (LENS) data hosted on AWS S3 ([doi:10.26024/wt24-5j82](https://doi.org/10.26024/wt24-5j82)).\n",
    "\n",
    "[Intake-esm Documentation](https://intake-esm.readthedocs.io/en/latest/notebooks/tutorial.html)\n",
    "\n",
    "Notebook version 0.2 (2020 May 06)"
   ]
  },
  {
   "cell_type": "markdown",
   "metadata": {},
   "source": [
    "## Set up environment"
   ]
  },
  {
   "cell_type": "code",
   "execution_count": null,
   "metadata": {},
   "outputs": [],
   "source": [
    "import intake\n",
    "import pandas as pd\n",
    "import pprint\n",
    "# Not used here:\n",
    "###import numpy as np\n",
    "###import xarray as xr\n",
    "# Allow multiple lines per cell to be displayed without print (default is just last line)\n",
    "### Doesn't work in current AWS environment\n",
    "###from IPython.core.interactiveshell import InteractiveShell\n",
    "###InteractiveShell.ast_node_interactivity = \"all\"\n",
    "# Enable more explicit control of DataFrame display (e.g., to omit annoying line numbers)\n",
    "from IPython.display import HTML"
   ]
  },
  {
   "cell_type": "markdown",
   "metadata": {},
   "source": [
    "## Inspect original intake-esm catalog"
   ]
  },
  {
   "cell_type": "code",
   "execution_count": null,
   "metadata": {},
   "outputs": [],
   "source": [
    "# Open original collection description file\n",
    "intakeEsmUrl_orig = 'https://ncar-cesm-lens.s3-us-west-2.amazonaws.com/catalogs/aws-cesm1-le.json'\n",
    "coll_orig = intake.open_esm_datastore(intakeEsmUrl_orig)\n",
    "###print(coll_orig._col_data['description']) #Description of collection\n",
    "###print(\"Catalog file:\", coll_orig._col_data['catalog_file'])\n",
    "print(coll_orig.esmcol_data['description']) #Description of collection\n",
    "print(\"Catalog file:\", coll_orig.esmcol_data['catalog_file'])\n",
    "print(coll_orig) #Summary of collection structure"
   ]
  },
  {
   "cell_type": "code",
   "execution_count": null,
   "metadata": {},
   "outputs": [],
   "source": [
    "coll_orig.esmcol_data"
   ]
  },
  {
   "cell_type": "code",
   "execution_count": null,
   "metadata": {},
   "outputs": [],
   "source": [
    "# Show expanded version of collection structure with details\n",
    "uniques_orig = coll_orig.unique(columns=[\"component\", \"frequency\", \"experiment\", \"variable\"])\n",
    "pprint.pprint(uniques_orig, compact=True, indent=1, width=80)"
   ]
  },
  {
   "cell_type": "code",
   "execution_count": null,
   "metadata": {},
   "outputs": [],
   "source": [
    "# Show the first few lines of the catalog. There are as many lines as there are paths.\n",
    "# The order is the same as that of the CSV catalog file listed in the JSON description file.\n",
    "print(\"Catalog file:\", coll_orig._col_data['catalog_file'])\n",
    "df = coll_orig.df\n",
    "HTML(df.head(10).to_html(index=False))"
   ]
  },
  {
   "cell_type": "markdown",
   "metadata": {},
   "source": [
    "**Table:** *First few lines of the original Intake-ESM Catalog showing the model component, the temporal frequency, the experiment, the abbreviated variable name, and the AWS S3 path for each Zarr store.*"
   ]
  },
  {
   "cell_type": "markdown",
   "metadata": {},
   "source": [
    "## Finding Data\n",
    "\n",
    "If you happen to know the meaning of the variable names, you can find what data are available for that variable. For example:"
   ]
  },
  {
   "cell_type": "code",
   "execution_count": null,
   "metadata": {},
   "outputs": [],
   "source": [
    "# Filter the catalog to find available data for one variable\n",
    "df = coll_orig.search(variable='FLNS').df\n",
    "HTML(df.to_html(index=False))"
   ]
  },
  {
   "cell_type": "markdown",
   "metadata": {},
   "source": [
    "**Table:** *All available Zarr stores for the \"FLNS\" data.*"
   ]
  },
  {
   "cell_type": "code",
   "execution_count": null,
   "metadata": {},
   "outputs": [],
   "source": [
    "# Narrow the filter to specific frequency and expiriment\n",
    "df = coll_orig.search(variable='FLNS', frequency='daily', experiment='RCP85').df\n",
    "HTML(df.to_html(index=False))"
   ]
  },
  {
   "cell_type": "markdown",
   "metadata": {},
   "source": [
    "**Table:** *The single Zarr store for daily \"FLNS\" data from \"RCP85\" experiment.*"
   ]
  },
  {
   "cell_type": "markdown",
   "metadata": {},
   "source": [
    "## The Problem"
   ]
  },
  {
   "cell_type": "markdown",
   "metadata": {},
   "source": [
    "Do all potential users know that \"FLNS\" is a CESM-specific abbreviation for \"Net longwave flux at surface\"? How would a novice user find out, other than by finding separate documentation, or by opening a Zarr store in the hopes that the long name might be recorded there? How do we address the fact that every climate model code seems to have a different, non-standard name for all the variables, thus making multi-source research needlessly difficult?"
   ]
  },
  {
   "cell_type": "markdown",
   "metadata": {},
   "source": [
    "## Enhanced Intake-ESM Catalog"
   ]
  },
  {
   "cell_type": "markdown",
   "metadata": {},
   "source": [
    "By adding additional columns to the Intake-ESM catalog, we should be able to improve semantic interoperability and provide potentially useful information to the users."
   ]
  },
  {
   "cell_type": "code",
   "execution_count": null,
   "metadata": {},
   "outputs": [],
   "source": [
    "# Open enhanced collection description file\n",
    "intakeEsmUrl = 'https://ncar-cesm-lens.s3-us-west-2.amazonaws.com/catalogs/aws-cesm1-le-enhanced.json'\n",
    "coll = intake.open_esm_datastore(intakeEsmUrl)\n",
    "print(coll._col_data['description']) #Description of collection\n",
    "print(\"Catalog file:\", coll._col_data['catalog_file'])\n",
    "print(coll) #Summary of collection structure"
   ]
  },
  {
   "cell_type": "markdown",
   "metadata": {},
   "source": [
    "### Long names\n",
    "\n",
    "In the summary above, note the addition of additional elements: long_name, start, end, and dim."
   ]
  },
  {
   "cell_type": "code",
   "execution_count": null,
   "metadata": {},
   "outputs": [],
   "source": [
    "# Show the first few lines of the enhanced catalog.\n",
    "print(\"Catalog file:\", coll._col_data['catalog_file'])\n",
    "HTML(coll.df.head(10).to_html(index=False))"
   ]
  },
  {
   "cell_type": "markdown",
   "metadata": {},
   "source": [
    "**Table:** *First few lines of the enhanced catalog, listing of the same information as the original catalog as well as the long name of each variable and an indication of whether each variable is 2D or 3D.*"
   ]
  },
  {
   "cell_type": "markdown",
   "metadata": {},
   "source": [
    "**ISSUE:** *The long names are **not** CF Standard Names, but rather are those documented at http://www.cgd.ucar.edu/ccr/strandwg/CESM-CAM5-BGC_LENS_fields.html. For interoperability, the long_name column should be replaced by a cf_name column and possibly an attribute column to disambiguate if needed.*"
   ]
  },
  {
   "cell_type": "code",
   "execution_count": null,
   "metadata": {},
   "outputs": [],
   "source": [
    "# List all available variables by Long Name, sorted alphabetically\n",
    "uniques = coll.unique(columns=['long_name'])\n",
    "nameList = sorted(uniques['long_name']['values'])\n",
    "print(*nameList, sep='\\n') #note *list to unpack each item for print function"
   ]
  },
  {
   "cell_type": "code",
   "execution_count": null,
   "metadata": {},
   "outputs": [],
   "source": [
    "# Show all available data for a specific variable based on long name\n",
    "myName = 'Salinity'\n",
    "HTML(coll.search(long_name=myName).df.to_html(index=False))"
   ]
  },
  {
   "cell_type": "markdown",
   "metadata": {},
   "source": [
    "**Table:** *All available data in this catalog for selected variable*"
   ]
  },
  {
   "cell_type": "markdown",
   "metadata": {},
   "source": [
    "### Substring matches\n",
    "\n",
    "**ISSUE:** The current version of intake-esm search() function requires an exact\n",
    "full-string case-sensitive match of the long_name.\n",
    "(This has been reported as an issue at https://github.com/NCAR/cesm-lens-aws/issues/48)\n",
    "\n",
    "Demonstrate a work-around: find all variables with a particular substring in the long name"
   ]
  },
  {
   "cell_type": "code",
   "execution_count": null,
   "metadata": {},
   "outputs": [],
   "source": [
    "myTerm = 'Wind'\n",
    "myTerm = myTerm.lower() #search regardless of case\n",
    "partials = [name for name in nameList if myTerm in name.lower()]\n",
    "print(f\"All datasets with name containing {myTerm}:\")\n",
    "print(*partials, sep='\\n')"
   ]
  },
  {
   "cell_type": "code",
   "execution_count": null,
   "metadata": {},
   "outputs": [],
   "source": [
    "# Display full table for each match (could be lengthy if many matches)\n",
    "for name in partials:\n",
    "    df = coll.search(long_name=name).df[['component', 'dim', 'experiment', 'variable', 'long_name']]\n",
    "    HTML(df.to_html(index=False))\n",
    "    ###df.head(1) #show only first entry in each group for compactness\n",
    "    # Note: It is also possible to hide column(s) instead of specifying desired columns\n",
    "    ###coll.search(long_name=name).df.drop(columns=['path'])"
   ]
  },
  {
   "cell_type": "markdown",
   "metadata": {},
   "source": [
    "**Table(s):** *Information about all matching datasets*"
   ]
  },
  {
   "cell_type": "markdown",
   "metadata": {},
   "source": [
    "**ISSUE:** The case-insensitive substring matching is not integrated into intake-esm, so it is not clear\n",
    "whether resulting search results can be passed directly to Xarray to read data."
   ]
  },
  {
   "cell_type": "markdown",
   "metadata": {},
   "source": [
    "### Other attributes\n",
    "\n",
    "Other columns in the enhanced catalog may be useful. For example, the dimensionality column enables us to list all data from the ocean component that is 3D."
   ]
  },
  {
   "cell_type": "code",
   "execution_count": null,
   "metadata": {},
   "outputs": [],
   "source": [
    "df = coll.search(dim=\"3D\",component=\"ocn\").df\n",
    "HTML(df.to_html(index=False))"
   ]
  },
  {
   "cell_type": "markdown",
   "metadata": {},
   "source": [
    "**Table:** *List of all 3D ocean datasets*"
   ]
  },
  {
   "cell_type": "markdown",
   "metadata": {},
   "source": [
    "### Spatiotemporal filtering\n",
    "\n",
    "* If there were both regional and global data available (e.g., LENS and NA-CORDEX data for the same variable, both listed in same catalog), some type of coverage indicator (or columns for bounding box edges) could be listed.\n",
    "* Temporal extent in LENS is conveyed by the experiment (HIST, 20C, etc) but this is imprecise and requires external documentation. We have added start/end columns to the catalog, but intake-esm currently does not have built-in functionality to filter based on time.\n",
    "\n"
   ]
  },
  {
   "cell_type": "code",
   "execution_count": null,
   "metadata": {},
   "outputs": [],
   "source": [
    "# We can do a simple search that exactly matches a temporal value\n",
    "df = coll.search(dim=\"3D\",component=\"ocn\", end='2100-12').df\n",
    "HTML(df.to_html(index=False))"
   ]
  },
  {
   "cell_type": "markdown",
   "metadata": {},
   "source": [
    "**Table:** *List of all 3D ocean datasets with an end month of 2100 December. Note that because intake-esm currently requires an exact match this search would not find daily data with an end date of 2100 Dec 31."
   ]
  },
  {
   "cell_type": "markdown",
   "metadata": {},
   "source": [
    "### TO DO\n",
    "\n",
    "* Add substring search capability to intake-esm.\n",
    "* Add simple temporal search capability to intake-esm.\n",
    "* Consider adding spatial attributes (and appropriate intake-esm support) once we have some regional data available.\n",
    "* Have some tables in this demo only list only variable and long name rather than every single frequency and experiment."
   ]
  },
  {
   "cell_type": "code",
   "execution_count": null,
   "metadata": {},
   "outputs": [],
   "source": []
  }
 ],
 "metadata": {
  "kernelspec": {
   "display_name": "Python 3",
   "language": "python",
   "name": "python3"
  },
  "language_info": {
   "codemirror_mode": {
    "name": "ipython",
    "version": 3
   },
   "file_extension": ".py",
   "mimetype": "text/x-python",
   "name": "python",
   "nbconvert_exporter": "python",
   "pygments_lexer": "ipython3",
   "version": "3.8.2"
  },
  "toc": {
   "base_numbering": 1,
   "nav_menu": {},
   "number_sections": true,
   "sideBar": true,
   "skip_h1_title": false,
   "title_cell": "Table of Contents",
   "title_sidebar": "Contents",
   "toc_cell": true,
   "toc_position": {},
   "toc_section_display": true,
   "toc_window_display": true
  }
 },
 "nbformat": 4,
 "nbformat_minor": 4
}
