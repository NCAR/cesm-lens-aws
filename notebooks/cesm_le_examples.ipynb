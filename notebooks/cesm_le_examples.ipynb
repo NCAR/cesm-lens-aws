{
 "cells": [
  {
   "cell_type": "code",
   "execution_count": null,
   "metadata": {},
   "outputs": [],
   "source": [
    "%matplotlib inline\n",
    "\n",
    "import intake\n",
    "import numpy as np\n",
    "import pandas as pd\n",
    "import xarray as xr\n",
    "import matplotlib.pyplot as plt\n",
    "import scipy.stats\n",
    "\n",
    "# TODO: update zarr version in icesat2 jhub\n",
    "!pip install zarr -U\n",
    "\n",
    "# TODO: document this notebook\n",
    "# References: https://journals.ametsoc.org/doi/full/10.1175/BAMS-D-13-00255.1"
   ]
  },
  {
   "cell_type": "code",
   "execution_count": null,
   "metadata": {},
   "outputs": [],
   "source": [
    "# TODO: Add this to the intake catalog?\n",
    "obs = xr.open_dataset('https://www.esrl.noaa.gov/psd/thredds/dodsC/Datasets/cru/hadcrut4/air.mon.anom.median.nc')['air'].load()\n",
    "obs"
   ]
  },
  {
   "cell_type": "code",
   "execution_count": null,
   "metadata": {},
   "outputs": [],
   "source": [
    "cat = intake.Catalog('https://raw.githubusercontent.com/NCAR/cesm-lens-aws/master/intake-catalogs/atmosphere/daily.yaml')\n",
    "\n",
    "t_20c = cat['reference_height_temperature_20C'].to_dask()['TREFHT']\n",
    "t_rcp = cat['reference_height_temperature_RCP85'].to_dask()['TREFHT']"
   ]
  },
  {
   "cell_type": "code",
   "execution_count": null,
   "metadata": {},
   "outputs": [],
   "source": [
    "t_ref = t_20c.sel(time=slice('1961', '1990'))\n",
    "t_ref"
   ]
  },
  {
   "cell_type": "code",
   "execution_count": null,
   "metadata": {},
   "outputs": [],
   "source": [
    "# TODO: These should all be weighted by area\n",
    "t_ref_ts = t_ref.resample(time='AS').mean('time').mean(('lat', 'lon', 'time', 'member_id'))\n",
    "t_20c_ts = t_20c.resample(time='AS').mean('time').mean(('lat', 'lon'))\n",
    "t_rcp_ts = t_rcp.resample(time='AS').mean('time').mean(('lat', 'lon'))"
   ]
  },
  {
   "cell_type": "code",
   "execution_count": null,
   "metadata": {},
   "outputs": [],
   "source": [
    "#TODO: Figure out why dask workers are dying when using the k8s cluster\n",
    "# from dask_kubernetes import KubeCluster\n",
    "from dask.distributed import Client\n",
    "\n",
    "# cluster = KubeCluster()\n",
    "# cluster.adapt(minimum=20, maximum=100)\n",
    "client = Client(n_workers=8)\n",
    "client"
   ]
  },
  {
   "cell_type": "code",
   "execution_count": null,
   "metadata": {},
   "outputs": [],
   "source": [
    "t_ref_mean = t_ref_ts.load()\n",
    "t_ref_mean"
   ]
  },
  {
   "cell_type": "code",
   "execution_count": null,
   "metadata": {},
   "outputs": [],
   "source": [
    "t_20c_ts_df = t_20c_ts.to_series().unstack().T\n",
    "t_20c_ts_df.head()"
   ]
  },
  {
   "cell_type": "code",
   "execution_count": null,
   "metadata": {},
   "outputs": [],
   "source": [
    "t_rcp_ts_df = t_rcp_ts.to_series().unstack().T\n",
    "t_rcp_ts_df.head()"
   ]
  },
  {
   "cell_type": "code",
   "execution_count": null,
   "metadata": {},
   "outputs": [],
   "source": [
    "# TODO: weight by days in each month\n",
    "obs_s = obs.resample(time='AS').mean('time').mean(('lat', 'lon')).to_series()\n",
    "obs_s.head()"
   ]
  },
  {
   "cell_type": "code",
   "execution_count": null,
   "metadata": {},
   "outputs": [],
   "source": [
    "\n",
    "all_ts_anom = pd.concat([t_20c_ts_df, t_rcp_ts_df]) - t_ref_mean.data\n",
    "years = [val.year for val in all_ts_anom.index]"
   ]
  },
  {
   "cell_type": "code",
   "execution_count": null,
   "metadata": {},
   "outputs": [],
   "source": [
    "# Figure 2\n",
    "# TODO: confirm that after using area weighted average, max temp increase is 5k\n",
    "\n",
    "ax = plt.axes()\n",
    "\n",
    "ax.plot(years, all_ts_anom, color='grey')\n",
    "ax.plot(years, all_ts_anom[1], color='black')\n",
    "ax.plot(obs_s.index.year, obs_s, color='red')\n",
    "\n",
    "ax.set_xticks([1850, 1920, 1950, 2000, 2050, 2100])\n",
    "plt.ylim(-1, 5)\n",
    "plt.xlim(1850, 2100)\n",
    "plt.ylabel('Global Surface\\nTemperature Anomaly (K)')"
   ]
  },
  {
   "cell_type": "code",
   "execution_count": null,
   "metadata": {},
   "outputs": [],
   "source": [
    "def linear_trend(da, dim='time'):\n",
    "    da_chunk = da.chunk({dim: -1})\n",
    "    trend = xr.apply_ufunc(calc_slope, da_chunk,\n",
    "                           vectorize=True,\n",
    "                           input_core_dims=[[dim]],\n",
    "                           output_core_dims=[[]],\n",
    "                           output_dtypes=[np.float],\n",
    "                           dask='parallelized')\n",
    "    return trend\n",
    "    \n",
    "\n",
    "def calc_slope(y):\n",
    "    \"\"\"ufunc to be used by linear_trend\"\"\"\n",
    "    x = np.arange(len(y))\n",
    "    return np.polyfit(x, y, 1)[0]"
   ]
  },
  {
   "cell_type": "code",
   "execution_count": null,
   "metadata": {},
   "outputs": [],
   "source": [
    "# TODO - this should probably include only full seasons from 1979 and 2012\n",
    "seasons = t_20c.sel(time=slice('1979', '2012')).resample(time='QS-DEC').mean('time').load()"
   ]
  },
  {
   "cell_type": "code",
   "execution_count": null,
   "metadata": {},
   "outputs": [],
   "source": [
    "def is_dec(date):\n",
    "    if date.month == 12:\n",
    "        return True\n",
    "    return False"
   ]
  },
  {
   "cell_type": "code",
   "execution_count": null,
   "metadata": {},
   "outputs": [],
   "source": [
    "winter_seasons = seasons.sel(time=[is_dec(date) for date in seasons.time.data])\n",
    "winter_trends = linear_trend(winter_seasons.chunk({'lat': 20, 'lon': 20, 'time': -1})).load() * len(winter_seasons)"
   ]
  },
  {
   "cell_type": "code",
   "execution_count": null,
   "metadata": {},
   "outputs": [],
   "source": [
    "assert len(winter_seasons) == 34  # TODO: this should be 34 I think, its not!"
   ]
  },
  {
   "cell_type": "code",
   "execution_count": null,
   "metadata": {},
   "outputs": [],
   "source": [
    "import cartopy.crs as ccrs\n",
    "levels = [-7, -6, -5, -4, -3, -2, -1, -0.5, 0, 0.5, 1, 2, 3, 4, 5, 6, 7]\n",
    "fg = winter_trends.isel(member_id=slice(0, 20)).plot(col='member_id', col_wrap=4, transform=ccrs.PlateCarree(),\n",
    "                                                    subplot_kws={'projection': ccrs.Robinson(central_longitude=180)},\n",
    "                                                    add_colorbar=False, levels=levels, cmap='RdYlBu_r',\n",
    "                                                    extend='neither')\n",
    "\n",
    "for ax in fg.axes.flat:\n",
    "    ax.coastlines(color='grey')\n",
    "    \n",
    "# TODO: move the subplot title to lower left corners\n",
    "# TODO: Add obs panel and ensemble mean at the end\n",
    "    \n",
    "fg.add_colorbar(orientation='horizontal')\n",
    "fg.cbar.set_label('1979-2012 DJF surface air temperature trends (K/34 years)')\n",
    "fg.cbar.set_ticks(levels)\n",
    "fg.cbar.set_ticklabels(levels)"
   ]
  },
  {
   "cell_type": "code",
   "execution_count": null,
   "metadata": {},
   "outputs": [],
   "source": []
  }
 ],
 "metadata": {
  "kernelspec": {
   "display_name": "Python 3",
   "language": "python",
   "name": "python3"
  },
  "language_info": {
   "codemirror_mode": {
    "name": "ipython",
    "version": 3
   },
   "file_extension": ".py",
   "mimetype": "text/x-python",
   "name": "python",
   "nbconvert_exporter": "python",
   "pygments_lexer": "ipython3",
   "version": "3.6.7"
  }
 },
 "nbformat": 4,
 "nbformat_minor": 2
}
