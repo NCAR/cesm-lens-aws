{
 "cells": [
  {
   "cell_type": "markdown",
   "id": "018c98ba",
   "metadata": {
    "toc": true
   },
   "source": [
    "<h1>Table of Contents<span class=\"tocSkip\"></span></h1>\n",
    "<div class=\"toc\"><ul class=\"toc-item\"><li><span><a href=\"#Community-Earth-System-Model-Large-Ensemble-(CESM-LENS)-Data-Sets-on-AWS\" data-toc-modified-id=\"Community-Earth-System-Model-Large-Ensemble-(CESM-LENS)-Data-Sets-on-AWS-1\"><span class=\"toc-item-num\">1&nbsp;&nbsp;</span>Community Earth System Model Large Ensemble (CESM LENS) Data Sets on AWS</a></span><ul class=\"toc-item\"><li><span><a href=\"#Overview\" data-toc-modified-id=\"Overview-1.1\"><span class=\"toc-item-num\">1.1&nbsp;&nbsp;</span>Overview</a></span></li><li><span><a href=\"#Accessing-CESM-LENS-on-AWS\" data-toc-modified-id=\"Accessing-CESM-LENS-on-AWS-1.2\"><span class=\"toc-item-num\">1.2&nbsp;&nbsp;</span>Accessing CESM LENS on AWS</a></span></li><li><span><a href=\"#Data\" data-toc-modified-id=\"Data-1.3\"><span class=\"toc-item-num\">1.3&nbsp;&nbsp;</span>Data</a></span><ul class=\"toc-item\"><li><span><a href=\"#Data-Catalog\" data-toc-modified-id=\"Data-Catalog-1.3.1\"><span class=\"toc-item-num\">1.3.1&nbsp;&nbsp;</span>Data Catalog</a></span></li></ul></li><li><span><a href=\"#Notebook-Examples\" data-toc-modified-id=\"Notebook-Examples-1.4\"><span class=\"toc-item-num\">1.4&nbsp;&nbsp;</span>Notebook Examples</a></span></li><li><span><a href=\"#Data-Citation\" data-toc-modified-id=\"Data-Citation-1.5\"><span class=\"toc-item-num\">1.5&nbsp;&nbsp;</span>Data Citation</a></span></li></ul></li></ul></div>"
   ]
  },
  {
   "cell_type": "markdown",
   "id": "ce32e674-97e2-4c2e-b281-d1c3b53bd80b",
   "metadata": {},
   "source": [
    "# Community Earth System Model Large Ensemble (CESM LENS) Data Sets on AWS\n"
   ]
  },
  {
   "cell_type": "markdown",
   "id": "737da5ef-d152-48c2-b815-ec6bf1676010",
   "metadata": {},
   "source": [
    "## Overview \n",
    "\n",
    "The [National Center for Atmospheric Research (NCAR)](https://ncar.ucar.edu/) Community Earth System Model Large Ensemble ([CESM LENS](http://www.cesm.ucar.edu/projects/community-projects/LENS/)) dataset includes a 40-member ensemble of climate simulations for the period 1920-2100. All model runs were subject to the same radiative forcing scenario: historical up to 2005, and RCP8.5 thereafter. (RCP8.5 - Representative Concentration Pathway 8.5 - refers to the worst-case scenario considered in the [Fifth Assessment Report](https://www.ipcc.ch/report/ar5/wg1/) of the Intergovernmental Panel on Climate Change - IPCC). Each of the 40 runs begins from a slightly different initial atmospheric state (created by randomly perturbing temperatures at the level of round-off error). The data comprise both surface (2D) and volumetric (3D) variables in the atmosphere, ocean, land, and ice domains.\n",
    "\n",
    "The total LENS data volume is ~500 TB, and is traditionally accessible through the NCAR Climate Data Gateway ([CDG](https://www.earthsystemgrid.org/dataset/ucar.cgd.ccsm4.CESM_CAM5_BGC_LE.html)) for download or via web services. A subset (currently ~70 TB compressed) including the most useful variables is now [freely available on AWS S3](https://registry.opendata.aws/ncar-cesm-lens/) thanks to the [AWS Public Dataset Program](https://aws.amazon.com/opendata/public-datasets/).\n",
    "\n",
    "Slides from an informational briefing about this dataset are available [here](http://ncar-aws-www.s3-website-us-west-2.amazonaws.com/20200212.CESM_LENS.AWStelecon.pdf)."
   ]
  },
  {
   "cell_type": "markdown",
   "id": "a24c253d-eb96-4d7d-b927-2398c98f4830",
   "metadata": {},
   "source": [
    "## Accessing CESM LENS on AWS\n",
    "\n",
    "- S3 bucket name: **ncar-cesm-lens**\n",
    "- Region: **us-west-2** region \n",
    "- Amazon resource name: **arn:aws:s3:::ncar-cesm-lens**\n",
    "- Bucket contents list: https://ncar-cesm-lens.s3.amazonaws.com/"
   ]
  },
  {
   "cell_type": "markdown",
   "id": "95f953fd-e56f-416e-b0c1-6e4c17e3965c",
   "metadata": {},
   "source": [
    "## Data\n",
    "\n",
    "\n",
    "Zarr format: The LENS data on AWS are structured according to the [Zarr](https://zarr.readthedocs.io/en/stable/) storage format. There are independent Zarr stores for each component, frequency, experiment, and variable. The naming convention is: `{component}/{frequency}/cesmLE-{experiment}-{variable}.zarr` where:\n",
    "\n",
    "- `component` = atm (atmosphere), lnd (land), ocn (ocean), ice_nh or ice_sh (ice, northern and southern hemispheres)\n",
    "- `frequency` = monthly, daily, or hourly6-startYear-endYear (6-hourly data are available for distinct periods)\n",
    "- `experiment` = 20C (20th century runs), RCP85 (RCP 8.5 runs), HIST (historical run), CTRL (fully-coupled control run), CTRL_AMIP (atmosphere-only control run), CTRL_SLAB (slab-ocean control run)\n",
    "- `variable` = one of the variable names listed in the tables below\n",
    "\n",
    "### Data Catalog \n",
    "\n",
    "\n",
    "The table below shows the available Zarr stores, including the experiments, variables, time ranges, and 2D or 3D nature (3D means multiple atmosphere levels or ocean depths are present). See also [collection description](https://ncar-cesm-lens.s3-us-west-2.amazonaws.com/catalogs/aws-cesm1-le.json) and [catalog file](https://ncar-cesm-lens.s3-us-west-2.amazonaws.com/catalogs/aws-cesm1-le.csv) used by [Intake-esm](https://intake-esm.readthedocs.io/)."
   ]
  },
  {
   "cell_type": "code",
   "execution_count": 1,
   "id": "741b30d3-496a-46a6-90bf-1a1449c42716",
   "metadata": {
    "tags": [
     "remove-input"
    ]
   },
   "outputs": [
    {
     "data": {
      "application/vnd.jupyter.widget-view+json": {
       "model_id": "fc571104d4244586852cf5e5b049cf10",
       "version_major": 2,
       "version_minor": 0
      },
      "text/plain": [
       "Grid(columns_fit='auto', compress_data=True, css_rules_down=['.ag-row-hover {background-color: lightblue !impo…"
      ]
     },
     "metadata": {},
     "output_type": "display_data"
    }
   ],
   "source": [
    "import pandas as pd\n",
    "from ipyaggrid import Grid\n",
    "from IPython.display import HTML\n",
    "\n",
    "df = pd.read_csv(\"https://ncar-cesm-lens.s3-us-west-2.amazonaws.com/catalogs/aws-cesm1-le.csv\")\n",
    "\n",
    "column_defs = [\n",
    "    {'headerName': 'variable', 'field': 'variable', 'rowGroup': False},\n",
    "    {'headerName': 'long_name', 'field': 'long_name', 'rowGroup': False},\n",
    "    {'headerName': 'component', 'field': 'component', 'rowGroup': False},\n",
    "    {'headerName': 'experiment', 'field': 'experiment', 'rowGroup': False},\n",
    "    {'headerName': 'frequency', 'field': 'frequency', 'rowGroup': False},\n",
    "    {'headerName': 'vertical_levels', 'field': 'vertical_levels', 'rowGroup': False},\n",
    "    {'headerName': 'spatial_domain', 'field': 'spatial_domain', 'rowGroup': False},\n",
    "    {'headerName': 'units', 'field': 'units', 'rowGroup': False},\n",
    "    {'headerName': 'start_time', 'field': 'start_time', 'rowGroup': False},\n",
    "    {'headerName': 'end_time', 'field': 'end_time', 'rowGroup': False},\n",
    "    {'headerName': 'path', 'field': 'path', 'rowGroup': False},\n",
    "]\n",
    "\n",
    "grid_options = {\n",
    "    'columnDefs': column_defs,\n",
    "    'enableSorting': True,\n",
    "    'enableFilter': True,\n",
    "    'enableColResize': True,\n",
    "    'enableRangeSelection': True,\n",
    "}\n",
    "\n",
    "css_rules = \"\"\"\n",
    ".ag-row-hover {\n",
    "    background-color: lightblue !important;\n",
    "}\n",
    "\n",
    ".ag-column-hover {\n",
    "    background-color: powderblue;\n",
    "}\n",
    "\n",
    ".ag-row-hover .ag-column-hover {\n",
    "    background-color: deepskyblue !important;\n",
    "}\n",
    "\"\"\"\n",
    "\n",
    "g = Grid(\n",
    "    grid_data=df,\n",
    "    grid_options=grid_options,\n",
    "    quick_filter=True,\n",
    "    show_toggle_edit=False,\n",
    "    export_csv=False,\n",
    "    export_excel=False,\n",
    "    theme='ag-theme-blue',\n",
    "    show_toggle_delete=False,\n",
    "    columns_fit='auto',\n",
    "    index=False,\n",
    "    keep_multiindex=False,\n",
    "    css_rules=css_rules,\n",
    ")\n",
    "g"
   ]
  },
  {
   "cell_type": "markdown",
   "id": "9a2990a0-986f-4d56-be2d-ba68ad4ddffd",
   "metadata": {},
   "source": [
    "## Notebook Examples\n",
    "\n",
    "\n",
    "A Jupyter Notebook illustrating how to read the LENS data on AWS, and reproducing Figures 2 and 4 from Kay et al. (2015), has been developed. This Notebook and other resources on GitHub will be gradually improved and augmented.\n",
    "\n",
    "- [Rendered (static) version of the Notebook](http://gallery.pangeo.io/repos/NCAR/cesm-lens-aws/notebooks/kay-et-al-2015.v3.html)\n",
    "- [Reusable Notebook on GitHub](https://github.com/NCAR/cesm-lens-aws)"
   ]
  },
  {
   "cell_type": "markdown",
   "id": "61930ae5-dc35-43ce-a5f8-34d87ee0c34f",
   "metadata": {},
   "source": [
    "## Data Citation\n",
    "\n",
    "\n",
    "Data are freely available and reusable under the terms of the CC-BY-4.0 license. See [Terms of Use](https://www.ucar.edu/terms-of-use/data). If you use these data, we request that you provide attribution in any derived products. The original, complete LENS dataset and the AWS-hosted subset have different DOIs (Digital Object Identifiers) to reflect their differing scope and format, so please cite whichever version of the dataset used, as well as the Kay et al. (2015) paper:\n",
    "\n",
    "- AWS-hosted subset: [doi:10.26024/wt24-5j82](https://doi.org/10.26024/wt24-5j82)\n",
    "de La Beaujardière, J., Banihirwe, A., Shih, C.-F., Paul, K., and Hamman, J., (2019), \"NCAR CESM LENS Cloud-Optimized Subset,\" UCAR/NCAR Computational and Informations Systems Lab\n",
    "- Original dataset: [doi:10.5065/d6j101d1](https://doi.org/10.5065/d6j101d1)\n",
    "Kay, J. and Deser, C. (2016). \"The Community Earth System Model (CESM) Large Ensemble Project\" UCAR/NCAR Climate Data Gateway.\n",
    "- Kay et al. (2015) paper: [doi:10.5065/d6j101d1](https://doi.org/10.5065/d6j101d1)\n",
    "Kay, J. E., Deser, C., Phillips, A., Mai, A., Hannay, C., Strand, G., Arblaster, J., Bates, S., Danabasoglu, G., Edwards, J., Holland, M. Kushner, P., Lamarque, J.-F., Lawrence, D., Lindsay, K., Middleton, A., Munoz, E., Neale, R., Oleson, K., Polvani, L., and M. Vertenstein (2015), \"The Community Earth System Model (CESM) Large Ensemble Project: A Community Resource for Studying Climate Change in the Presence of Internal Climate Variability,\" Bulletin of the American Meteorological Society, 96, 1333-1349"
   ]
  },
  {
   "cell_type": "code",
   "execution_count": null,
   "id": "255de21d",
   "metadata": {},
   "outputs": [],
   "source": []
  }
 ],
 "metadata": {
  "celltoolbar": "Edit Metadata",
  "kernelspec": {
   "display_name": "Python 3",
   "language": "python",
   "name": "python3"
  },
  "language_info": {
   "codemirror_mode": {
    "name": "ipython",
    "version": 3
   },
   "file_extension": ".py",
   "mimetype": "text/x-python",
   "name": "python",
   "nbconvert_exporter": "python",
   "pygments_lexer": "ipython3",
   "version": "3.9.4"
  },
  "toc": {
   "base_numbering": 1,
   "nav_menu": {},
   "number_sections": true,
   "sideBar": true,
   "skip_h1_title": false,
   "title_cell": "Table of Contents",
   "title_sidebar": "Contents",
   "toc_cell": true,
   "toc_position": {},
   "toc_section_display": true,
   "toc_window_display": true
  },
  "widgets": {
   "application/vnd.jupyter.widget-state+json": {
    "state": {
     "866fb117ae2740be9d0c02ae3fd90af8": {
      "model_module": "@jupyter-widgets/base",
      "model_module_version": "1.2.0",
      "model_name": "LayoutModel",
      "state": {}
     }
    },
    "version_major": 2,
    "version_minor": 0
   }
  }
 },
 "nbformat": 4,
 "nbformat_minor": 5
}
