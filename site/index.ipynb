{
 "cells": [
  {
   "cell_type": "markdown",
   "id": "ce32e674-97e2-4c2e-b281-d1c3b53bd80b",
   "metadata": {},
   "source": [
    "# Community Earth System Model Large Ensemble (CESM LENS) Data Sets on AWS\n"
   ]
  },
  {
   "cell_type": "markdown",
   "id": "737da5ef-d152-48c2-b815-ec6bf1676010",
   "metadata": {},
   "source": [
    "## Overview\n",
    "\n",
    "The [National Center for Atmospheric Research (NCAR)](https://ncar.ucar.edu/)\n",
    "Community Earth System Model Large Ensemble\n",
    "([CESM LENS](http://www.cesm.ucar.edu/projects/community-projects/LENS/))\n",
    "dataset includes a 40-member ensemble of climate simulations for the period\n",
    "1920-2100. All model runs were subject to the same radiative forcing scenario:\n",
    "historical up to 2005, and RCP8.5 thereafter. (RCP8.5 - Representative\n",
    "Concentration Pathway 8.5 - refers to the worst-case scenario considered in the\n",
    "[Fifth Assessment Report](https://www.ipcc.ch/report/ar5/wg1/) of the\n",
    "Intergovernmental Panel on Climate Change - IPCC). Each of the 40 runs begins\n",
    "from a slightly different initial atmospheric state (created by randomly\n",
    "perturbing temperatures at the level of round-off error). The data comprise both\n",
    "surface (2D) and volumetric (3D) variables in the atmosphere, ocean, land, and\n",
    "ice domains.\n",
    "\n",
    "The total LENS data volume is ~500 TB, and is traditionally accessible through\n",
    "the NCAR Climate Data Gateway\n",
    "([CDG](https://www.earthsystemgrid.org/dataset/ucar.cgd.ccsm4.CESM_CAM5_BGC_LE.html))\n",
    "for download or via web services. A subset (currently ~70 TB compressed)\n",
    "including the most useful variables is now\n",
    "[freely available on AWS S3](https://registry.opendata.aws/ncar-cesm-lens/)\n",
    "thanks to the\n",
    "[AWS Public Dataset Program](https://aws.amazon.com/opendata/public-datasets/).\n",
    "\n",
    "Slides from an informational briefing about this dataset are available\n",
    "[here](http://ncar-aws-www.s3-website-us-west-2.amazonaws.com/20200212.CESM_LENS.AWStelecon.pdf).\n"
   ]
  },
  {
   "cell_type": "markdown",
   "id": "a24c253d-eb96-4d7d-b927-2398c98f4830",
   "metadata": {},
   "source": [
    "## Accessing CESM LENS on AWS\n",
    "\n",
    "- S3 bucket name: **ncar-cesm-lens**\n",
    "- Region: **us-west-2** region\n",
    "- Amazon resource name: **arn:aws:s3:::ncar-cesm-lens**\n",
    "- Bucket contents list: https://ncar-cesm-lens.s3.amazonaws.com/\n"
   ]
  },
  {
   "cell_type": "markdown",
   "id": "95f953fd-e56f-416e-b0c1-6e4c17e3965c",
   "metadata": {},
   "source": [
    "## Data\n",
    "\n",
    "Zarr format: The LENS data on AWS are structured according to the\n",
    "[Zarr](https://zarr.readthedocs.io/en/stable/) storage format. There are\n",
    "independent Zarr stores for each component, frequency, experiment, and variable.\n",
    "The naming convention is:\n",
    "`{component}/{frequency}/cesmLE-{experiment}-{variable}.zarr` where:\n",
    "\n",
    "- `component` = atm (atmosphere), lnd (land), ocn (ocean), ice_nh or ice_sh\n",
    "  (ice, northern and southern hemispheres)\n",
    "- `frequency` = monthly, daily, or hourly6-startYear-endYear (6-hourly data are\n",
    "  available for distinct periods)\n",
    "- `experiment` = 20C (20th century runs), RCP85 (RCP 8.5 runs), HIST (historical\n",
    "  run), CTRL (fully-coupled control run), CTRL_AMIP (atmosphere-only control\n",
    "  run), CTRL_SLAB (slab-ocean control run)\n",
    "- `variable` = one of the variable names listed in the tables below\n",
    "\n",
    "### Data Catalog\n",
    "\n",
    "The table below shows the available Zarr stores, including the experiments,\n",
    "variables, time ranges, and 2D or 3D nature (3D means multiple atmosphere levels\n",
    "or ocean depths are present). See also\n",
    "[collection description](https://ncar-cesm-lens.s3-us-west-2.amazonaws.com/catalogs/aws-cesm1-le.json)\n",
    "and\n",
    "[catalog file](https://ncar-cesm-lens.s3-us-west-2.amazonaws.com/catalogs/aws-cesm1-le.csv)\n",
    "used by [Intake-esm](https://intake-esm.readthedocs.io/).\n"
   ]
  },
  {
   "cell_type": "code",
   "execution_count": 1,
   "id": "741b30d3-496a-46a6-90bf-1a1449c42716",
   "metadata": {
    "tags": [
     "remove-input"
    ]
   },
   "outputs": [
    {
     "data": {
      "application/vnd.jupyter.widget-view+json": {
       "model_id": "933af7a16540436d9412c60cf4e239d5",
       "version_major": 2,
       "version_minor": 0
      },
      "text/plain": [
       "Grid(columns_fit='auto', compress_data=True, css_rules_down=['.ag-row-hover {background-color: lightblue !impo…"
      ]
     },
     "metadata": {},
     "output_type": "display_data"
    }
   ],
   "source": [
    "import pandas as pd\n",
    "from ipyaggrid import Grid\n",
    "from IPython.display import HTML\n",
    "\n",
    "df = pd.read_csv(\n",
    "    \"https://ncar-cesm-lens.s3-us-west-2.amazonaws.com/catalogs/aws-cesm1-le.csv\"\n",
    ")\n",
    "\n",
    "column_defs = [\n",
    "    {\"headerName\": \"variable\", \"field\": \"variable\", \"rowGroup\": False},\n",
    "    {\"headerName\": \"long_name\", \"field\": \"long_name\", \"rowGroup\": False},\n",
    "    {\"headerName\": \"component\", \"field\": \"component\", \"rowGroup\": False},\n",
    "    {\"headerName\": \"experiment\", \"field\": \"experiment\", \"rowGroup\": False},\n",
    "    {\"headerName\": \"frequency\", \"field\": \"frequency\", \"rowGroup\": False},\n",
    "    {\n",
    "        \"headerName\": \"vertical_levels\",\n",
    "        \"field\": \"vertical_levels\",\n",
    "        \"rowGroup\": False,\n",
    "    },\n",
    "    {\n",
    "        \"headerName\": \"spatial_domain\",\n",
    "        \"field\": \"spatial_domain\",\n",
    "        \"rowGroup\": False,\n",
    "    },\n",
    "    {\"headerName\": \"units\", \"field\": \"units\", \"rowGroup\": False},\n",
    "    {\"headerName\": \"start_time\", \"field\": \"start_time\", \"rowGroup\": False},\n",
    "    {\"headerName\": \"end_time\", \"field\": \"end_time\", \"rowGroup\": False},\n",
    "    {\"headerName\": \"path\", \"field\": \"path\", \"rowGroup\": False},\n",
    "]\n",
    "\n",
    "grid_options = {\n",
    "    \"columnDefs\": column_defs,\n",
    "    \"enableSorting\": True,\n",
    "    \"enableFilter\": True,\n",
    "    \"enableColResize\": True,\n",
    "    \"enableRangeSelection\": True,\n",
    "}\n",
    "\n",
    "css_rules = \"\"\"\n",
    ".ag-row-hover {\n",
    "    background-color: lightblue !important;\n",
    "}\n",
    "\n",
    ".ag-column-hover {\n",
    "    background-color: powderblue;\n",
    "}\n",
    "\n",
    ".ag-row-hover .ag-column-hover {\n",
    "    background-color: deepskyblue !important;\n",
    "}\n",
    "\"\"\"\n",
    "\n",
    "g = Grid(\n",
    "    grid_data=df,\n",
    "    grid_options=grid_options,\n",
    "    quick_filter=True,\n",
    "    show_toggle_edit=False,\n",
    "    export_csv=False,\n",
    "    export_excel=False,\n",
    "    theme=\"ag-theme-blue\",\n",
    "    show_toggle_delete=False,\n",
    "    columns_fit=\"auto\",\n",
    "    index=False,\n",
    "    keep_multiindex=False,\n",
    "    css_rules=css_rules,\n",
    ")\n",
    "g"
   ]
  },
  {
   "cell_type": "markdown",
   "id": "9a2990a0-986f-4d56-be2d-ba68ad4ddffd",
   "metadata": {},
   "source": [
    "## Notebook Examples\n",
    "\n",
    "A Jupyter Notebook illustrating how to read the LENS data on AWS, and\n",
    "reproducing Figures 2 and 4 from Kay et al. (2015), has been developed. This\n",
    "Notebook and other resources on GitHub will be gradually improved and augmented.\n",
    "\n",
    "- [Rendered (static) version of the Notebook](http://gallery.pangeo.io/repos/NCAR/cesm-lens-aws/notebooks/kay-et-al-2015.v3.html)\n",
    "- [Reusable Notebook on GitHub](https://github.com/NCAR/cesm-lens-aws)\n"
   ]
  },
  {
   "cell_type": "markdown",
   "id": "61930ae5-dc35-43ce-a5f8-34d87ee0c34f",
   "metadata": {},
   "source": [
    "## Data Citation\n",
    "\n",
    "Data are freely available and reusable under the terms of the CC-BY-4.0 license.\n",
    "See [Terms of Use](https://www.ucar.edu/terms-of-use/data). If you use these\n",
    "data, we request that you provide attribution in any derived products. The\n",
    "original, complete LENS dataset and the AWS-hosted subset have different DOIs\n",
    "(Digital Object Identifiers) to reflect their differing scope and format, so\n",
    "please cite whichever version of the dataset used, as well as the Kay et al.\n",
    "(2015) paper:\n",
    "\n",
    "- AWS-hosted subset:\n",
    "  [doi:10.26024/wt24-5j82](https://doi.org/10.26024/wt24-5j82) de La\n",
    "  Beaujardière, J., Banihirwe, A., Shih, C.-F., Paul, K., and Hamman, J.,\n",
    "  (2019), \"NCAR CESM LENS Cloud-Optimized Subset,\" UCAR/NCAR Computational and\n",
    "  Informations Systems Lab\n",
    "- Original dataset: [doi:10.5065/d6j101d1](https://doi.org/10.5065/d6j101d1)\n",
    "  Kay, J. and Deser, C. (2016). \"The Community Earth System Model (CESM) Large\n",
    "  Ensemble Project\" UCAR/NCAR Climate Data Gateway.\n",
    "- Kay et al. (2015) paper:\n",
    "  [doi:10.5065/d6j101d1](https://doi.org/10.5065/d6j101d1) Kay, J. E., Deser,\n",
    "  C., Phillips, A., Mai, A., Hannay, C., Strand, G., Arblaster, J., Bates, S.,\n",
    "  Danabasoglu, G., Edwards, J., Holland, M. Kushner, P., Lamarque, J.-F.,\n",
    "  Lawrence, D., Lindsay, K., Middleton, A., Munoz, E., Neale, R., Oleson, K.,\n",
    "  Polvani, L., and M. Vertenstein (2015), \"The Community Earth System Model\n",
    "  (CESM) Large Ensemble Project: A Community Resource for Studying Climate\n",
    "  Change in the Presence of Internal Climate Variability,\" Bulletin of the\n",
    "  American Meteorological Society, 96, 1333-1349\n"
   ]
  },
  {
   "cell_type": "markdown",
   "id": "c9567cdd",
   "metadata": {},
   "source": [
    "## Contact\n",
    "\n",
    "If you have questions or want to submit a data request, please reach out to us\n",
    "on [our GitHub Discussions](https://github.com/NCAR/cesm-lens-aws/discussions)\n",
    "page or via email: `cisl-aws-lens` at `ucar` dot `edu`.\n"
   ]
  }
 ],
 "metadata": {
  "celltoolbar": "Edit Metadata",
  "kernelspec": {
   "display_name": "Python 3",
   "language": "python",
   "name": "python3"
  },
  "language_info": {
   "codemirror_mode": {
    "name": "ipython",
    "version": 3
   },
   "file_extension": ".py",
   "mimetype": "text/x-python",
   "name": "python",
   "nbconvert_exporter": "python",
   "pygments_lexer": "ipython3",
   "version": "3.9.4"
  },
  "toc": {
   "base_numbering": 1,
   "nav_menu": {},
   "number_sections": false,
   "sideBar": true,
   "skip_h1_title": false,
   "title_cell": "Table of Contents",
   "title_sidebar": "Contents",
   "toc_cell": false,
   "toc_position": {},
   "toc_section_display": true,
   "toc_window_display": true
  },
  "widgets": {
   "application/vnd.jupyter.widget-state+json": {
    "state": {
     "866fb117ae2740be9d0c02ae3fd90af8": {
      "model_module": "@jupyter-widgets/base",
      "model_module_version": "1.2.0",
      "model_name": "LayoutModel",
      "state": {}
     }
    },
    "version_major": 2,
    "version_minor": 0
   }
  }
 },
 "nbformat": 4,
 "nbformat_minor": 5
}
